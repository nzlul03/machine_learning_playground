{
  "nbformat": 4,
  "nbformat_minor": 0,
  "metadata": {
    "colab": {
      "name": "Simple_and_Multiple_Linear_Regression.ipynb",
      "provenance": [],
      "collapsed_sections": []
    },
    "kernelspec": {
      "name": "python3",
      "display_name": "Python 3"
    },
    "language_info": {
      "name": "python"
    },
    "accelerator": "GPU",
    "gpuClass": "standard"
  },
  "cells": [
    {
      "cell_type": "markdown",
      "source": [
        "# 1. Simple Linear Regression"
      ],
      "metadata": {
        "id": "QWpnCBS71H_r"
      }
    },
    {
      "cell_type": "markdown",
      "source": [
        "Simple linear regression is a regression model that estimates the relationship between one independent variable and one dependent variable using a straight line"
      ],
      "metadata": {
        "id": "dOvWCAuO1xVG"
      }
    },
    {
      "cell_type": "markdown",
      "source": [
        "A measure of the degree of association between two variables that are assumed to have a linear relationship, that is, to be related in such a manner that their values form a straight line when plotted on a graph."
      ],
      "metadata": {
        "id": "aifnorjd2GUC"
      }
    },
    {
      "cell_type": "markdown",
      "source": [
        "![image.png](data:image/png;base64,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)"
      ],
      "metadata": {
        "id": "iJ7HXrxS2rmz"
      }
    },
    {
      "cell_type": "markdown",
      "source": [
        "Y = mx + c\n",
        "\n",
        "- c : intercept\n",
        "- m : slope"
      ],
      "metadata": {
        "id": "V537dDd02s7y"
      }
    },
    {
      "cell_type": "markdown",
      "source": [
        "\n",
        "Linear regression algorithm will provide the optimal intercept and slope values. The controllable values ​​are intercept (c) and slope (m).\n"
      ],
      "metadata": {
        "id": "3c0XEJD526KJ"
      }
    },
    {
      "cell_type": "markdown",
      "source": [
        "## Import Library"
      ],
      "metadata": {
        "id": "Ms-JHmqbm_79"
      }
    },
    {
      "cell_type": "code",
      "execution_count": 1,
      "metadata": {
        "id": "cyH0ZL8i1BnX"
      },
      "outputs": [],
      "source": [
        "import pandas as pd\n",
        "import numpy as np\n",
        "import matplotlib.pyplot as plt\n",
        "import seaborn as sns\n",
        "\n",
        "from sklearn.model_selection import train_test_split\n",
        "from sklearn.linear_model import LinearRegression\n",
        "from sklearn import metrics\n",
        "\n",
        "#%matplotlib inline"
      ]
    },
    {
      "cell_type": "markdown",
      "source": [
        "## Load Data"
      ],
      "metadata": {
        "id": "Gr9IvPVFnF-e"
      }
    },
    {
      "cell_type": "code",
      "source": [
        "df = pd.read_csv('https://raw.githubusercontent.com/esabunor/MLWorkspace/master/melb_data.csv')\n",
        "df.head()"
      ],
      "metadata": {
        "colab": {
          "base_uri": "https://localhost:8080/",
          "height": 438
        },
        "id": "0pk9MW-i40wP",
        "outputId": "4f619d41-12f6-4359-9a40-fbfec695ec10"
      },
      "execution_count": 2,
      "outputs": [
        {
          "output_type": "execute_result",
          "data": {
            "text/plain": [
              "   Unnamed: 0      Suburb           Address  Rooms Type      Price Method  \\\n",
              "0           1  Abbotsford      85 Turner St      2    h  1480000.0      S   \n",
              "1           2  Abbotsford   25 Bloomburg St      2    h  1035000.0      S   \n",
              "2           4  Abbotsford      5 Charles St      3    h  1465000.0     SP   \n",
              "3           5  Abbotsford  40 Federation La      3    h   850000.0     PI   \n",
              "4           6  Abbotsford       55a Park St      4    h  1600000.0     VB   \n",
              "\n",
              "  SellerG       Date  Distance  ...  Bathroom  Car  Landsize  BuildingArea  \\\n",
              "0  Biggin  3/12/2016       2.5  ...       1.0  1.0     202.0           NaN   \n",
              "1  Biggin  4/02/2016       2.5  ...       1.0  0.0     156.0          79.0   \n",
              "2  Biggin  4/03/2017       2.5  ...       2.0  0.0     134.0         150.0   \n",
              "3  Biggin  4/03/2017       2.5  ...       2.0  1.0      94.0           NaN   \n",
              "4  Nelson  4/06/2016       2.5  ...       1.0  2.0     120.0         142.0   \n",
              "\n",
              "   YearBuilt  CouncilArea  Lattitude Longtitude             Regionname  \\\n",
              "0        NaN        Yarra   -37.7996   144.9984  Northern Metropolitan   \n",
              "1     1900.0        Yarra   -37.8079   144.9934  Northern Metropolitan   \n",
              "2     1900.0        Yarra   -37.8093   144.9944  Northern Metropolitan   \n",
              "3        NaN        Yarra   -37.7969   144.9969  Northern Metropolitan   \n",
              "4     2014.0        Yarra   -37.8072   144.9941  Northern Metropolitan   \n",
              "\n",
              "   Propertycount  \n",
              "0         4019.0  \n",
              "1         4019.0  \n",
              "2         4019.0  \n",
              "3         4019.0  \n",
              "4         4019.0  \n",
              "\n",
              "[5 rows x 22 columns]"
            ],
            "text/html": [
              "\n",
              "  <div id=\"df-eb9da088-b1fa-4ed6-a36c-0bab6b2a460f\">\n",
              "    <div class=\"colab-df-container\">\n",
              "      <div>\n",
              "<style scoped>\n",
              "    .dataframe tbody tr th:only-of-type {\n",
              "        vertical-align: middle;\n",
              "    }\n",
              "\n",
              "    .dataframe tbody tr th {\n",
              "        vertical-align: top;\n",
              "    }\n",
              "\n",
              "    .dataframe thead th {\n",
              "        text-align: right;\n",
              "    }\n",
              "</style>\n",
              "<table border=\"1\" class=\"dataframe\">\n",
              "  <thead>\n",
              "    <tr style=\"text-align: right;\">\n",
              "      <th></th>\n",
              "      <th>Unnamed: 0</th>\n",
              "      <th>Suburb</th>\n",
              "      <th>Address</th>\n",
              "      <th>Rooms</th>\n",
              "      <th>Type</th>\n",
              "      <th>Price</th>\n",
              "      <th>Method</th>\n",
              "      <th>SellerG</th>\n",
              "      <th>Date</th>\n",
              "      <th>Distance</th>\n",
              "      <th>...</th>\n",
              "      <th>Bathroom</th>\n",
              "      <th>Car</th>\n",
              "      <th>Landsize</th>\n",
              "      <th>BuildingArea</th>\n",
              "      <th>YearBuilt</th>\n",
              "      <th>CouncilArea</th>\n",
              "      <th>Lattitude</th>\n",
              "      <th>Longtitude</th>\n",
              "      <th>Regionname</th>\n",
              "      <th>Propertycount</th>\n",
              "    </tr>\n",
              "  </thead>\n",
              "  <tbody>\n",
              "    <tr>\n",
              "      <th>0</th>\n",
              "      <td>1</td>\n",
              "      <td>Abbotsford</td>\n",
              "      <td>85 Turner St</td>\n",
              "      <td>2</td>\n",
              "      <td>h</td>\n",
              "      <td>1480000.0</td>\n",
              "      <td>S</td>\n",
              "      <td>Biggin</td>\n",
              "      <td>3/12/2016</td>\n",
              "      <td>2.5</td>\n",
              "      <td>...</td>\n",
              "      <td>1.0</td>\n",
              "      <td>1.0</td>\n",
              "      <td>202.0</td>\n",
              "      <td>NaN</td>\n",
              "      <td>NaN</td>\n",
              "      <td>Yarra</td>\n",
              "      <td>-37.7996</td>\n",
              "      <td>144.9984</td>\n",
              "      <td>Northern Metropolitan</td>\n",
              "      <td>4019.0</td>\n",
              "    </tr>\n",
              "    <tr>\n",
              "      <th>1</th>\n",
              "      <td>2</td>\n",
              "      <td>Abbotsford</td>\n",
              "      <td>25 Bloomburg St</td>\n",
              "      <td>2</td>\n",
              "      <td>h</td>\n",
              "      <td>1035000.0</td>\n",
              "      <td>S</td>\n",
              "      <td>Biggin</td>\n",
              "      <td>4/02/2016</td>\n",
              "      <td>2.5</td>\n",
              "      <td>...</td>\n",
              "      <td>1.0</td>\n",
              "      <td>0.0</td>\n",
              "      <td>156.0</td>\n",
              "      <td>79.0</td>\n",
              "      <td>1900.0</td>\n",
              "      <td>Yarra</td>\n",
              "      <td>-37.8079</td>\n",
              "      <td>144.9934</td>\n",
              "      <td>Northern Metropolitan</td>\n",
              "      <td>4019.0</td>\n",
              "    </tr>\n",
              "    <tr>\n",
              "      <th>2</th>\n",
              "      <td>4</td>\n",
              "      <td>Abbotsford</td>\n",
              "      <td>5 Charles St</td>\n",
              "      <td>3</td>\n",
              "      <td>h</td>\n",
              "      <td>1465000.0</td>\n",
              "      <td>SP</td>\n",
              "      <td>Biggin</td>\n",
              "      <td>4/03/2017</td>\n",
              "      <td>2.5</td>\n",
              "      <td>...</td>\n",
              "      <td>2.0</td>\n",
              "      <td>0.0</td>\n",
              "      <td>134.0</td>\n",
              "      <td>150.0</td>\n",
              "      <td>1900.0</td>\n",
              "      <td>Yarra</td>\n",
              "      <td>-37.8093</td>\n",
              "      <td>144.9944</td>\n",
              "      <td>Northern Metropolitan</td>\n",
              "      <td>4019.0</td>\n",
              "    </tr>\n",
              "    <tr>\n",
              "      <th>3</th>\n",
              "      <td>5</td>\n",
              "      <td>Abbotsford</td>\n",
              "      <td>40 Federation La</td>\n",
              "      <td>3</td>\n",
              "      <td>h</td>\n",
              "      <td>850000.0</td>\n",
              "      <td>PI</td>\n",
              "      <td>Biggin</td>\n",
              "      <td>4/03/2017</td>\n",
              "      <td>2.5</td>\n",
              "      <td>...</td>\n",
              "      <td>2.0</td>\n",
              "      <td>1.0</td>\n",
              "      <td>94.0</td>\n",
              "      <td>NaN</td>\n",
              "      <td>NaN</td>\n",
              "      <td>Yarra</td>\n",
              "      <td>-37.7969</td>\n",
              "      <td>144.9969</td>\n",
              "      <td>Northern Metropolitan</td>\n",
              "      <td>4019.0</td>\n",
              "    </tr>\n",
              "    <tr>\n",
              "      <th>4</th>\n",
              "      <td>6</td>\n",
              "      <td>Abbotsford</td>\n",
              "      <td>55a Park St</td>\n",
              "      <td>4</td>\n",
              "      <td>h</td>\n",
              "      <td>1600000.0</td>\n",
              "      <td>VB</td>\n",
              "      <td>Nelson</td>\n",
              "      <td>4/06/2016</td>\n",
              "      <td>2.5</td>\n",
              "      <td>...</td>\n",
              "      <td>1.0</td>\n",
              "      <td>2.0</td>\n",
              "      <td>120.0</td>\n",
              "      <td>142.0</td>\n",
              "      <td>2014.0</td>\n",
              "      <td>Yarra</td>\n",
              "      <td>-37.8072</td>\n",
              "      <td>144.9941</td>\n",
              "      <td>Northern Metropolitan</td>\n",
              "      <td>4019.0</td>\n",
              "    </tr>\n",
              "  </tbody>\n",
              "</table>\n",
              "<p>5 rows × 22 columns</p>\n",
              "</div>\n",
              "      <button class=\"colab-df-convert\" onclick=\"convertToInteractive('df-eb9da088-b1fa-4ed6-a36c-0bab6b2a460f')\"\n",
              "              title=\"Convert this dataframe to an interactive table.\"\n",
              "              style=\"display:none;\">\n",
              "        \n",
              "  <svg xmlns=\"http://www.w3.org/2000/svg\" height=\"24px\"viewBox=\"0 0 24 24\"\n",
              "       width=\"24px\">\n",
              "    <path d=\"M0 0h24v24H0V0z\" fill=\"none\"/>\n",
              "    <path d=\"M18.56 5.44l.94 2.06.94-2.06 2.06-.94-2.06-.94-.94-2.06-.94 2.06-2.06.94zm-11 1L8.5 8.5l.94-2.06 2.06-.94-2.06-.94L8.5 2.5l-.94 2.06-2.06.94zm10 10l.94 2.06.94-2.06 2.06-.94-2.06-.94-.94-2.06-.94 2.06-2.06.94z\"/><path d=\"M17.41 7.96l-1.37-1.37c-.4-.4-.92-.59-1.43-.59-.52 0-1.04.2-1.43.59L10.3 9.45l-7.72 7.72c-.78.78-.78 2.05 0 2.83L4 21.41c.39.39.9.59 1.41.59.51 0 1.02-.2 1.41-.59l7.78-7.78 2.81-2.81c.8-.78.8-2.07 0-2.86zM5.41 20L4 18.59l7.72-7.72 1.47 1.35L5.41 20z\"/>\n",
              "  </svg>\n",
              "      </button>\n",
              "      \n",
              "  <style>\n",
              "    .colab-df-container {\n",
              "      display:flex;\n",
              "      flex-wrap:wrap;\n",
              "      gap: 12px;\n",
              "    }\n",
              "\n",
              "    .colab-df-convert {\n",
              "      background-color: #E8F0FE;\n",
              "      border: none;\n",
              "      border-radius: 50%;\n",
              "      cursor: pointer;\n",
              "      display: none;\n",
              "      fill: #1967D2;\n",
              "      height: 32px;\n",
              "      padding: 0 0 0 0;\n",
              "      width: 32px;\n",
              "    }\n",
              "\n",
              "    .colab-df-convert:hover {\n",
              "      background-color: #E2EBFA;\n",
              "      box-shadow: 0px 1px 2px rgba(60, 64, 67, 0.3), 0px 1px 3px 1px rgba(60, 64, 67, 0.15);\n",
              "      fill: #174EA6;\n",
              "    }\n",
              "\n",
              "    [theme=dark] .colab-df-convert {\n",
              "      background-color: #3B4455;\n",
              "      fill: #D2E3FC;\n",
              "    }\n",
              "\n",
              "    [theme=dark] .colab-df-convert:hover {\n",
              "      background-color: #434B5C;\n",
              "      box-shadow: 0px 1px 3px 1px rgba(0, 0, 0, 0.15);\n",
              "      filter: drop-shadow(0px 1px 2px rgba(0, 0, 0, 0.3));\n",
              "      fill: #FFFFFF;\n",
              "    }\n",
              "  </style>\n",
              "\n",
              "      <script>\n",
              "        const buttonEl =\n",
              "          document.querySelector('#df-eb9da088-b1fa-4ed6-a36c-0bab6b2a460f button.colab-df-convert');\n",
              "        buttonEl.style.display =\n",
              "          google.colab.kernel.accessAllowed ? 'block' : 'none';\n",
              "\n",
              "        async function convertToInteractive(key) {\n",
              "          const element = document.querySelector('#df-eb9da088-b1fa-4ed6-a36c-0bab6b2a460f');\n",
              "          const dataTable =\n",
              "            await google.colab.kernel.invokeFunction('convertToInteractive',\n",
              "                                                     [key], {});\n",
              "          if (!dataTable) return;\n",
              "\n",
              "          const docLinkHtml = 'Like what you see? Visit the ' +\n",
              "            '<a target=\"_blank\" href=https://colab.research.google.com/notebooks/data_table.ipynb>data table notebook</a>'\n",
              "            + ' to learn more about interactive tables.';\n",
              "          element.innerHTML = '';\n",
              "          dataTable['output_type'] = 'display_data';\n",
              "          await google.colab.output.renderOutput(dataTable, element);\n",
              "          const docLink = document.createElement('div');\n",
              "          docLink.innerHTML = docLinkHtml;\n",
              "          element.appendChild(docLink);\n",
              "        }\n",
              "      </script>\n",
              "    </div>\n",
              "  </div>\n",
              "  "
            ]
          },
          "metadata": {},
          "execution_count": 2
        }
      ]
    },
    {
      "cell_type": "markdown",
      "source": [
        "## Info Dataset"
      ],
      "metadata": {
        "id": "vtCy2rgcnSao"
      }
    },
    {
      "cell_type": "code",
      "source": [
        "df.info()"
      ],
      "metadata": {
        "colab": {
          "base_uri": "https://localhost:8080/"
        },
        "id": "VckZV5Vk5Wvf",
        "outputId": "92600143-afef-425b-a202-d233d2f42267"
      },
      "execution_count": 3,
      "outputs": [
        {
          "output_type": "stream",
          "name": "stdout",
          "text": [
            "<class 'pandas.core.frame.DataFrame'>\n",
            "RangeIndex: 18396 entries, 0 to 18395\n",
            "Data columns (total 22 columns):\n",
            " #   Column         Non-Null Count  Dtype  \n",
            "---  ------         --------------  -----  \n",
            " 0   Unnamed: 0     18396 non-null  int64  \n",
            " 1   Suburb         18396 non-null  object \n",
            " 2   Address        18396 non-null  object \n",
            " 3   Rooms          18396 non-null  int64  \n",
            " 4   Type           18396 non-null  object \n",
            " 5   Price          18396 non-null  float64\n",
            " 6   Method         18396 non-null  object \n",
            " 7   SellerG        18396 non-null  object \n",
            " 8   Date           18396 non-null  object \n",
            " 9   Distance       18395 non-null  float64\n",
            " 10  Postcode       18395 non-null  float64\n",
            " 11  Bedroom2       14927 non-null  float64\n",
            " 12  Bathroom       14925 non-null  float64\n",
            " 13  Car            14820 non-null  float64\n",
            " 14  Landsize       13603 non-null  float64\n",
            " 15  BuildingArea   7762 non-null   float64\n",
            " 16  YearBuilt      8958 non-null   float64\n",
            " 17  CouncilArea    12233 non-null  object \n",
            " 18  Lattitude      15064 non-null  float64\n",
            " 19  Longtitude     15064 non-null  float64\n",
            " 20  Regionname     18395 non-null  object \n",
            " 21  Propertycount  18395 non-null  float64\n",
            "dtypes: float64(12), int64(2), object(8)\n",
            "memory usage: 3.1+ MB\n"
          ]
        }
      ]
    },
    {
      "cell_type": "markdown",
      "source": [
        "## Describe Dataset"
      ],
      "metadata": {
        "id": "68Gc4nI2pH3M"
      }
    },
    {
      "cell_type": "code",
      "source": [
        "# Descriptive statistic from numerical variabel\n",
        "df.describe()"
      ],
      "metadata": {
        "colab": {
          "base_uri": "https://localhost:8080/",
          "height": 364
        },
        "id": "plUVMiS25fCB",
        "outputId": "1d70c5e4-6104-4e07-bd26-16346afdf892"
      },
      "execution_count": 4,
      "outputs": [
        {
          "output_type": "execute_result",
          "data": {
            "text/plain": [
              "         Unnamed: 0         Rooms         Price      Distance      Postcode  \\\n",
              "count  18396.000000  18396.000000  1.839600e+04  18395.000000  18395.000000   \n",
              "mean   11826.787073      2.935040  1.056697e+06     10.389986   3107.140147   \n",
              "std     6800.710448      0.958202  6.419217e+05      6.009050     95.000995   \n",
              "min        1.000000      1.000000  8.500000e+04      0.000000   3000.000000   \n",
              "25%     5936.750000      2.000000  6.330000e+05      6.300000   3046.000000   \n",
              "50%    11820.500000      3.000000  8.800000e+05      9.700000   3085.000000   \n",
              "75%    17734.250000      3.000000  1.302000e+06     13.300000   3149.000000   \n",
              "max    23546.000000     12.000000  9.000000e+06     48.100000   3978.000000   \n",
              "\n",
              "           Bedroom2      Bathroom           Car       Landsize  BuildingArea  \\\n",
              "count  14927.000000  14925.000000  14820.000000   13603.000000   7762.000000   \n",
              "mean       2.913043      1.538492      1.615520     558.116371    151.220219   \n",
              "std        0.964641      0.689311      0.955916    3987.326586    519.188596   \n",
              "min        0.000000      0.000000      0.000000       0.000000      0.000000   \n",
              "25%        2.000000      1.000000      1.000000     176.500000     93.000000   \n",
              "50%        3.000000      1.000000      2.000000     440.000000    126.000000   \n",
              "75%        3.000000      2.000000      2.000000     651.000000    174.000000   \n",
              "max       20.000000      8.000000     10.000000  433014.000000  44515.000000   \n",
              "\n",
              "         YearBuilt     Lattitude    Longtitude  Propertycount  \n",
              "count  8958.000000  15064.000000  15064.000000   18395.000000  \n",
              "mean   1965.879996    -37.809849    144.996338    7517.975265  \n",
              "std      37.013261      0.081152      0.106375    4488.416599  \n",
              "min    1196.000000    -38.182550    144.431810     249.000000  \n",
              "25%    1950.000000    -37.858100    144.931193    4294.000000  \n",
              "50%    1970.000000    -37.803625    145.000920    6567.000000  \n",
              "75%    2000.000000    -37.756270    145.060000   10331.000000  \n",
              "max    2018.000000    -37.408530    145.526350   21650.000000  "
            ],
            "text/html": [
              "\n",
              "  <div id=\"df-97bc1e00-a3ed-46b8-aadc-bdeae578c483\">\n",
              "    <div class=\"colab-df-container\">\n",
              "      <div>\n",
              "<style scoped>\n",
              "    .dataframe tbody tr th:only-of-type {\n",
              "        vertical-align: middle;\n",
              "    }\n",
              "\n",
              "    .dataframe tbody tr th {\n",
              "        vertical-align: top;\n",
              "    }\n",
              "\n",
              "    .dataframe thead th {\n",
              "        text-align: right;\n",
              "    }\n",
              "</style>\n",
              "<table border=\"1\" class=\"dataframe\">\n",
              "  <thead>\n",
              "    <tr style=\"text-align: right;\">\n",
              "      <th></th>\n",
              "      <th>Unnamed: 0</th>\n",
              "      <th>Rooms</th>\n",
              "      <th>Price</th>\n",
              "      <th>Distance</th>\n",
              "      <th>Postcode</th>\n",
              "      <th>Bedroom2</th>\n",
              "      <th>Bathroom</th>\n",
              "      <th>Car</th>\n",
              "      <th>Landsize</th>\n",
              "      <th>BuildingArea</th>\n",
              "      <th>YearBuilt</th>\n",
              "      <th>Lattitude</th>\n",
              "      <th>Longtitude</th>\n",
              "      <th>Propertycount</th>\n",
              "    </tr>\n",
              "  </thead>\n",
              "  <tbody>\n",
              "    <tr>\n",
              "      <th>count</th>\n",
              "      <td>18396.000000</td>\n",
              "      <td>18396.000000</td>\n",
              "      <td>1.839600e+04</td>\n",
              "      <td>18395.000000</td>\n",
              "      <td>18395.000000</td>\n",
              "      <td>14927.000000</td>\n",
              "      <td>14925.000000</td>\n",
              "      <td>14820.000000</td>\n",
              "      <td>13603.000000</td>\n",
              "      <td>7762.000000</td>\n",
              "      <td>8958.000000</td>\n",
              "      <td>15064.000000</td>\n",
              "      <td>15064.000000</td>\n",
              "      <td>18395.000000</td>\n",
              "    </tr>\n",
              "    <tr>\n",
              "      <th>mean</th>\n",
              "      <td>11826.787073</td>\n",
              "      <td>2.935040</td>\n",
              "      <td>1.056697e+06</td>\n",
              "      <td>10.389986</td>\n",
              "      <td>3107.140147</td>\n",
              "      <td>2.913043</td>\n",
              "      <td>1.538492</td>\n",
              "      <td>1.615520</td>\n",
              "      <td>558.116371</td>\n",
              "      <td>151.220219</td>\n",
              "      <td>1965.879996</td>\n",
              "      <td>-37.809849</td>\n",
              "      <td>144.996338</td>\n",
              "      <td>7517.975265</td>\n",
              "    </tr>\n",
              "    <tr>\n",
              "      <th>std</th>\n",
              "      <td>6800.710448</td>\n",
              "      <td>0.958202</td>\n",
              "      <td>6.419217e+05</td>\n",
              "      <td>6.009050</td>\n",
              "      <td>95.000995</td>\n",
              "      <td>0.964641</td>\n",
              "      <td>0.689311</td>\n",
              "      <td>0.955916</td>\n",
              "      <td>3987.326586</td>\n",
              "      <td>519.188596</td>\n",
              "      <td>37.013261</td>\n",
              "      <td>0.081152</td>\n",
              "      <td>0.106375</td>\n",
              "      <td>4488.416599</td>\n",
              "    </tr>\n",
              "    <tr>\n",
              "      <th>min</th>\n",
              "      <td>1.000000</td>\n",
              "      <td>1.000000</td>\n",
              "      <td>8.500000e+04</td>\n",
              "      <td>0.000000</td>\n",
              "      <td>3000.000000</td>\n",
              "      <td>0.000000</td>\n",
              "      <td>0.000000</td>\n",
              "      <td>0.000000</td>\n",
              "      <td>0.000000</td>\n",
              "      <td>0.000000</td>\n",
              "      <td>1196.000000</td>\n",
              "      <td>-38.182550</td>\n",
              "      <td>144.431810</td>\n",
              "      <td>249.000000</td>\n",
              "    </tr>\n",
              "    <tr>\n",
              "      <th>25%</th>\n",
              "      <td>5936.750000</td>\n",
              "      <td>2.000000</td>\n",
              "      <td>6.330000e+05</td>\n",
              "      <td>6.300000</td>\n",
              "      <td>3046.000000</td>\n",
              "      <td>2.000000</td>\n",
              "      <td>1.000000</td>\n",
              "      <td>1.000000</td>\n",
              "      <td>176.500000</td>\n",
              "      <td>93.000000</td>\n",
              "      <td>1950.000000</td>\n",
              "      <td>-37.858100</td>\n",
              "      <td>144.931193</td>\n",
              "      <td>4294.000000</td>\n",
              "    </tr>\n",
              "    <tr>\n",
              "      <th>50%</th>\n",
              "      <td>11820.500000</td>\n",
              "      <td>3.000000</td>\n",
              "      <td>8.800000e+05</td>\n",
              "      <td>9.700000</td>\n",
              "      <td>3085.000000</td>\n",
              "      <td>3.000000</td>\n",
              "      <td>1.000000</td>\n",
              "      <td>2.000000</td>\n",
              "      <td>440.000000</td>\n",
              "      <td>126.000000</td>\n",
              "      <td>1970.000000</td>\n",
              "      <td>-37.803625</td>\n",
              "      <td>145.000920</td>\n",
              "      <td>6567.000000</td>\n",
              "    </tr>\n",
              "    <tr>\n",
              "      <th>75%</th>\n",
              "      <td>17734.250000</td>\n",
              "      <td>3.000000</td>\n",
              "      <td>1.302000e+06</td>\n",
              "      <td>13.300000</td>\n",
              "      <td>3149.000000</td>\n",
              "      <td>3.000000</td>\n",
              "      <td>2.000000</td>\n",
              "      <td>2.000000</td>\n",
              "      <td>651.000000</td>\n",
              "      <td>174.000000</td>\n",
              "      <td>2000.000000</td>\n",
              "      <td>-37.756270</td>\n",
              "      <td>145.060000</td>\n",
              "      <td>10331.000000</td>\n",
              "    </tr>\n",
              "    <tr>\n",
              "      <th>max</th>\n",
              "      <td>23546.000000</td>\n",
              "      <td>12.000000</td>\n",
              "      <td>9.000000e+06</td>\n",
              "      <td>48.100000</td>\n",
              "      <td>3978.000000</td>\n",
              "      <td>20.000000</td>\n",
              "      <td>8.000000</td>\n",
              "      <td>10.000000</td>\n",
              "      <td>433014.000000</td>\n",
              "      <td>44515.000000</td>\n",
              "      <td>2018.000000</td>\n",
              "      <td>-37.408530</td>\n",
              "      <td>145.526350</td>\n",
              "      <td>21650.000000</td>\n",
              "    </tr>\n",
              "  </tbody>\n",
              "</table>\n",
              "</div>\n",
              "      <button class=\"colab-df-convert\" onclick=\"convertToInteractive('df-97bc1e00-a3ed-46b8-aadc-bdeae578c483')\"\n",
              "              title=\"Convert this dataframe to an interactive table.\"\n",
              "              style=\"display:none;\">\n",
              "        \n",
              "  <svg xmlns=\"http://www.w3.org/2000/svg\" height=\"24px\"viewBox=\"0 0 24 24\"\n",
              "       width=\"24px\">\n",
              "    <path d=\"M0 0h24v24H0V0z\" fill=\"none\"/>\n",
              "    <path d=\"M18.56 5.44l.94 2.06.94-2.06 2.06-.94-2.06-.94-.94-2.06-.94 2.06-2.06.94zm-11 1L8.5 8.5l.94-2.06 2.06-.94-2.06-.94L8.5 2.5l-.94 2.06-2.06.94zm10 10l.94 2.06.94-2.06 2.06-.94-2.06-.94-.94-2.06-.94 2.06-2.06.94z\"/><path d=\"M17.41 7.96l-1.37-1.37c-.4-.4-.92-.59-1.43-.59-.52 0-1.04.2-1.43.59L10.3 9.45l-7.72 7.72c-.78.78-.78 2.05 0 2.83L4 21.41c.39.39.9.59 1.41.59.51 0 1.02-.2 1.41-.59l7.78-7.78 2.81-2.81c.8-.78.8-2.07 0-2.86zM5.41 20L4 18.59l7.72-7.72 1.47 1.35L5.41 20z\"/>\n",
              "  </svg>\n",
              "      </button>\n",
              "      \n",
              "  <style>\n",
              "    .colab-df-container {\n",
              "      display:flex;\n",
              "      flex-wrap:wrap;\n",
              "      gap: 12px;\n",
              "    }\n",
              "\n",
              "    .colab-df-convert {\n",
              "      background-color: #E8F0FE;\n",
              "      border: none;\n",
              "      border-radius: 50%;\n",
              "      cursor: pointer;\n",
              "      display: none;\n",
              "      fill: #1967D2;\n",
              "      height: 32px;\n",
              "      padding: 0 0 0 0;\n",
              "      width: 32px;\n",
              "    }\n",
              "\n",
              "    .colab-df-convert:hover {\n",
              "      background-color: #E2EBFA;\n",
              "      box-shadow: 0px 1px 2px rgba(60, 64, 67, 0.3), 0px 1px 3px 1px rgba(60, 64, 67, 0.15);\n",
              "      fill: #174EA6;\n",
              "    }\n",
              "\n",
              "    [theme=dark] .colab-df-convert {\n",
              "      background-color: #3B4455;\n",
              "      fill: #D2E3FC;\n",
              "    }\n",
              "\n",
              "    [theme=dark] .colab-df-convert:hover {\n",
              "      background-color: #434B5C;\n",
              "      box-shadow: 0px 1px 3px 1px rgba(0, 0, 0, 0.15);\n",
              "      filter: drop-shadow(0px 1px 2px rgba(0, 0, 0, 0.3));\n",
              "      fill: #FFFFFF;\n",
              "    }\n",
              "  </style>\n",
              "\n",
              "      <script>\n",
              "        const buttonEl =\n",
              "          document.querySelector('#df-97bc1e00-a3ed-46b8-aadc-bdeae578c483 button.colab-df-convert');\n",
              "        buttonEl.style.display =\n",
              "          google.colab.kernel.accessAllowed ? 'block' : 'none';\n",
              "\n",
              "        async function convertToInteractive(key) {\n",
              "          const element = document.querySelector('#df-97bc1e00-a3ed-46b8-aadc-bdeae578c483');\n",
              "          const dataTable =\n",
              "            await google.colab.kernel.invokeFunction('convertToInteractive',\n",
              "                                                     [key], {});\n",
              "          if (!dataTable) return;\n",
              "\n",
              "          const docLinkHtml = 'Like what you see? Visit the ' +\n",
              "            '<a target=\"_blank\" href=https://colab.research.google.com/notebooks/data_table.ipynb>data table notebook</a>'\n",
              "            + ' to learn more about interactive tables.';\n",
              "          element.innerHTML = '';\n",
              "          dataTable['output_type'] = 'display_data';\n",
              "          await google.colab.output.renderOutput(dataTable, element);\n",
              "          const docLink = document.createElement('div');\n",
              "          docLink.innerHTML = docLinkHtml;\n",
              "          element.appendChild(docLink);\n",
              "        }\n",
              "      </script>\n",
              "    </div>\n",
              "  </div>\n",
              "  "
            ]
          },
          "metadata": {},
          "execution_count": 4
        }
      ]
    },
    {
      "cell_type": "code",
      "source": [
        "# Descriptive statistic from non-numerical variabel\n",
        "df.describe(exclude='number')"
      ],
      "metadata": {
        "colab": {
          "base_uri": "https://localhost:8080/",
          "height": 219
        },
        "id": "udRpEV5N5o8Z",
        "outputId": "ac25a06f-ee0d-4b42-ff4a-22bfd2a2ea7d"
      },
      "execution_count": 5,
      "outputs": [
        {
          "output_type": "execute_result",
          "data": {
            "text/plain": [
              "           Suburb     Address   Type Method SellerG        Date CouncilArea  \\\n",
              "count       18396       18396  18396  18396   18396       18396       12233   \n",
              "unique        330       18134      3      5     305          58          33   \n",
              "top     Reservoir  14 Rose St      h      S  Nelson  27/05/2017    Moreland   \n",
              "freq          541           3  12095  12034    2002         610        1163   \n",
              "\n",
              "                   Regionname  \n",
              "count                   18395  \n",
              "unique                      8  \n",
              "top     Southern Metropolitan  \n",
              "freq                     6343  "
            ],
            "text/html": [
              "\n",
              "  <div id=\"df-5f479aac-8d66-4f15-8768-7786c72f3d0b\">\n",
              "    <div class=\"colab-df-container\">\n",
              "      <div>\n",
              "<style scoped>\n",
              "    .dataframe tbody tr th:only-of-type {\n",
              "        vertical-align: middle;\n",
              "    }\n",
              "\n",
              "    .dataframe tbody tr th {\n",
              "        vertical-align: top;\n",
              "    }\n",
              "\n",
              "    .dataframe thead th {\n",
              "        text-align: right;\n",
              "    }\n",
              "</style>\n",
              "<table border=\"1\" class=\"dataframe\">\n",
              "  <thead>\n",
              "    <tr style=\"text-align: right;\">\n",
              "      <th></th>\n",
              "      <th>Suburb</th>\n",
              "      <th>Address</th>\n",
              "      <th>Type</th>\n",
              "      <th>Method</th>\n",
              "      <th>SellerG</th>\n",
              "      <th>Date</th>\n",
              "      <th>CouncilArea</th>\n",
              "      <th>Regionname</th>\n",
              "    </tr>\n",
              "  </thead>\n",
              "  <tbody>\n",
              "    <tr>\n",
              "      <th>count</th>\n",
              "      <td>18396</td>\n",
              "      <td>18396</td>\n",
              "      <td>18396</td>\n",
              "      <td>18396</td>\n",
              "      <td>18396</td>\n",
              "      <td>18396</td>\n",
              "      <td>12233</td>\n",
              "      <td>18395</td>\n",
              "    </tr>\n",
              "    <tr>\n",
              "      <th>unique</th>\n",
              "      <td>330</td>\n",
              "      <td>18134</td>\n",
              "      <td>3</td>\n",
              "      <td>5</td>\n",
              "      <td>305</td>\n",
              "      <td>58</td>\n",
              "      <td>33</td>\n",
              "      <td>8</td>\n",
              "    </tr>\n",
              "    <tr>\n",
              "      <th>top</th>\n",
              "      <td>Reservoir</td>\n",
              "      <td>14 Rose St</td>\n",
              "      <td>h</td>\n",
              "      <td>S</td>\n",
              "      <td>Nelson</td>\n",
              "      <td>27/05/2017</td>\n",
              "      <td>Moreland</td>\n",
              "      <td>Southern Metropolitan</td>\n",
              "    </tr>\n",
              "    <tr>\n",
              "      <th>freq</th>\n",
              "      <td>541</td>\n",
              "      <td>3</td>\n",
              "      <td>12095</td>\n",
              "      <td>12034</td>\n",
              "      <td>2002</td>\n",
              "      <td>610</td>\n",
              "      <td>1163</td>\n",
              "      <td>6343</td>\n",
              "    </tr>\n",
              "  </tbody>\n",
              "</table>\n",
              "</div>\n",
              "      <button class=\"colab-df-convert\" onclick=\"convertToInteractive('df-5f479aac-8d66-4f15-8768-7786c72f3d0b')\"\n",
              "              title=\"Convert this dataframe to an interactive table.\"\n",
              "              style=\"display:none;\">\n",
              "        \n",
              "  <svg xmlns=\"http://www.w3.org/2000/svg\" height=\"24px\"viewBox=\"0 0 24 24\"\n",
              "       width=\"24px\">\n",
              "    <path d=\"M0 0h24v24H0V0z\" fill=\"none\"/>\n",
              "    <path d=\"M18.56 5.44l.94 2.06.94-2.06 2.06-.94-2.06-.94-.94-2.06-.94 2.06-2.06.94zm-11 1L8.5 8.5l.94-2.06 2.06-.94-2.06-.94L8.5 2.5l-.94 2.06-2.06.94zm10 10l.94 2.06.94-2.06 2.06-.94-2.06-.94-.94-2.06-.94 2.06-2.06.94z\"/><path d=\"M17.41 7.96l-1.37-1.37c-.4-.4-.92-.59-1.43-.59-.52 0-1.04.2-1.43.59L10.3 9.45l-7.72 7.72c-.78.78-.78 2.05 0 2.83L4 21.41c.39.39.9.59 1.41.59.51 0 1.02-.2 1.41-.59l7.78-7.78 2.81-2.81c.8-.78.8-2.07 0-2.86zM5.41 20L4 18.59l7.72-7.72 1.47 1.35L5.41 20z\"/>\n",
              "  </svg>\n",
              "      </button>\n",
              "      \n",
              "  <style>\n",
              "    .colab-df-container {\n",
              "      display:flex;\n",
              "      flex-wrap:wrap;\n",
              "      gap: 12px;\n",
              "    }\n",
              "\n",
              "    .colab-df-convert {\n",
              "      background-color: #E8F0FE;\n",
              "      border: none;\n",
              "      border-radius: 50%;\n",
              "      cursor: pointer;\n",
              "      display: none;\n",
              "      fill: #1967D2;\n",
              "      height: 32px;\n",
              "      padding: 0 0 0 0;\n",
              "      width: 32px;\n",
              "    }\n",
              "\n",
              "    .colab-df-convert:hover {\n",
              "      background-color: #E2EBFA;\n",
              "      box-shadow: 0px 1px 2px rgba(60, 64, 67, 0.3), 0px 1px 3px 1px rgba(60, 64, 67, 0.15);\n",
              "      fill: #174EA6;\n",
              "    }\n",
              "\n",
              "    [theme=dark] .colab-df-convert {\n",
              "      background-color: #3B4455;\n",
              "      fill: #D2E3FC;\n",
              "    }\n",
              "\n",
              "    [theme=dark] .colab-df-convert:hover {\n",
              "      background-color: #434B5C;\n",
              "      box-shadow: 0px 1px 3px 1px rgba(0, 0, 0, 0.15);\n",
              "      filter: drop-shadow(0px 1px 2px rgba(0, 0, 0, 0.3));\n",
              "      fill: #FFFFFF;\n",
              "    }\n",
              "  </style>\n",
              "\n",
              "      <script>\n",
              "        const buttonEl =\n",
              "          document.querySelector('#df-5f479aac-8d66-4f15-8768-7786c72f3d0b button.colab-df-convert');\n",
              "        buttonEl.style.display =\n",
              "          google.colab.kernel.accessAllowed ? 'block' : 'none';\n",
              "\n",
              "        async function convertToInteractive(key) {\n",
              "          const element = document.querySelector('#df-5f479aac-8d66-4f15-8768-7786c72f3d0b');\n",
              "          const dataTable =\n",
              "            await google.colab.kernel.invokeFunction('convertToInteractive',\n",
              "                                                     [key], {});\n",
              "          if (!dataTable) return;\n",
              "\n",
              "          const docLinkHtml = 'Like what you see? Visit the ' +\n",
              "            '<a target=\"_blank\" href=https://colab.research.google.com/notebooks/data_table.ipynb>data table notebook</a>'\n",
              "            + ' to learn more about interactive tables.';\n",
              "          element.innerHTML = '';\n",
              "          dataTable['output_type'] = 'display_data';\n",
              "          await google.colab.output.renderOutput(dataTable, element);\n",
              "          const docLink = document.createElement('div');\n",
              "          docLink.innerHTML = docLinkHtml;\n",
              "          element.appendChild(docLink);\n",
              "        }\n",
              "      </script>\n",
              "    </div>\n",
              "  </div>\n",
              "  "
            ]
          },
          "metadata": {},
          "execution_count": 5
        }
      ]
    },
    {
      "cell_type": "markdown",
      "source": [
        "In this case, the model that we used is simple linear regression, so in this experiment, we will only try to use 1 independent variable."
      ],
      "metadata": {
        "id": "YTDq4Y1Ip65e"
      }
    },
    {
      "cell_type": "markdown",
      "source": [
        "One of the considerations for choosing the independent variable is : by looking at the correlation value in the correlation matrix (between the dependent and independent variable)."
      ],
      "metadata": {
        "id": "s50qwVRIqKWR"
      }
    },
    {
      "cell_type": "markdown",
      "source": [
        "## Correlation Matrix"
      ],
      "metadata": {
        "id": "sA3KI60wzTAN"
      }
    },
    {
      "cell_type": "code",
      "source": [
        "import pandas as pd\n",
        "import numpy as np\n",
        "import matplotlib.pyplot as plt\n",
        "import seaborn as sns\n",
        "\n",
        "corr = df.corr()\n",
        "\n",
        "f, ax = plt.subplots(figsize=(12, 10))\n",
        "mask = np.triu(np.ones_like(corr, dtype=bool))\n",
        "cmap = sns.diverging_palette(230, 12, as_cmap=True)\n",
        "sns.heatmap(corr, annot=True, mask = mask, cmap=cmap)"
      ],
      "metadata": {
        "colab": {
          "base_uri": "https://localhost:8080/",
          "height": 670
        },
        "id": "tE3WS5l1qVCM",
        "outputId": "f3a1345c-1b26-44ac-98ce-59b60b04d8c0"
      },
      "execution_count": 6,
      "outputs": [
        {
          "output_type": "execute_result",
          "data": {
            "text/plain": [
              "<matplotlib.axes._subplots.AxesSubplot at 0x7fe857366e50>"
            ]
          },
          "metadata": {},
          "execution_count": 6
        },
        {
          "output_type": "display_data",
          "data": {
            "text/plain": [
              "<Figure size 864x720 with 2 Axes>"
            ],
            "image/png": "[encoded data removed]"
          },
          "metadata": {
            "needs_background": "light"
          }
        }
      ]
    },
    {
      "cell_type": "markdown",
      "source": [
        "Define dependent variable and independent variable for our Simple Linear Regression:\n",
        "- Dependent variable : `Price`\n",
        "- Independent variable : `Bedroom2` (the highest positive correlation value among other variables)"
      ],
      "metadata": {
        "id": "kumJtUM26JD4"
      }
    },
    {
      "cell_type": "markdown",
      "source": [
        "## Handling Missing Value"
      ],
      "metadata": {
        "id": "zP-43MImzVIs"
      }
    },
    {
      "cell_type": "code",
      "source": [
        "# check the missing value\n",
        "missing_val = df.isnull().sum().sort_values()\n",
        "missing_val"
      ],
      "metadata": {
        "colab": {
          "base_uri": "https://localhost:8080/"
        },
        "id": "XQuYJRXotQ5z",
        "outputId": "a01ed136-4f23-45dd-c1a1-28df88360d64"
      },
      "execution_count": 7,
      "outputs": [
        {
          "output_type": "execute_result",
          "data": {
            "text/plain": [
              "Unnamed: 0           0\n",
              "Suburb               0\n",
              "Address              0\n",
              "Rooms                0\n",
              "Type                 0\n",
              "Price                0\n",
              "Method               0\n",
              "SellerG              0\n",
              "Date                 0\n",
              "Regionname           1\n",
              "Postcode             1\n",
              "Distance             1\n",
              "Propertycount        1\n",
              "Lattitude         3332\n",
              "Longtitude        3332\n",
              "Bedroom2          3469\n",
              "Bathroom          3471\n",
              "Car               3576\n",
              "Landsize          4793\n",
              "CouncilArea       6163\n",
              "YearBuilt         9438\n",
              "BuildingArea     10634\n",
              "dtype: int64"
            ]
          },
          "metadata": {},
          "execution_count": 7
        }
      ]
    },
    {
      "cell_type": "markdown",
      "source": [
        "fill the missing value of the independent variable `Bedroom2` with 0"
      ],
      "metadata": {
        "id": "PhG2mlSEGs0B"
      }
    },
    {
      "cell_type": "code",
      "source": [
        "df['Bedroom2'].fillna('0', inplace=True)"
      ],
      "metadata": {
        "id": "0FYXvxJZ_TEA"
      },
      "execution_count": 8,
      "outputs": []
    },
    {
      "cell_type": "markdown",
      "source": [
        "check the missing value again"
      ],
      "metadata": {
        "id": "apUF55KtG71K"
      }
    },
    {
      "cell_type": "code",
      "source": [
        "missing_val = df.isnull().sum().sort_values()\n",
        "missing_val"
      ],
      "metadata": {
        "colab": {
          "base_uri": "https://localhost:8080/"
        },
        "id": "fP6L3FQHt3cf",
        "outputId": "5ff4e7ae-d600-4154-b318-ac4472b87825"
      },
      "execution_count": 9,
      "outputs": [
        {
          "output_type": "execute_result",
          "data": {
            "text/plain": [
              "Unnamed: 0           0\n",
              "Suburb               0\n",
              "Address              0\n",
              "Rooms                0\n",
              "Type                 0\n",
              "Price                0\n",
              "Method               0\n",
              "SellerG              0\n",
              "Date                 0\n",
              "Bedroom2             0\n",
              "Postcode             1\n",
              "Distance             1\n",
              "Regionname           1\n",
              "Propertycount        1\n",
              "Lattitude         3332\n",
              "Longtitude        3332\n",
              "Bathroom          3471\n",
              "Car               3576\n",
              "Landsize          4793\n",
              "CouncilArea       6163\n",
              "YearBuilt         9438\n",
              "BuildingArea     10634\n",
              "dtype: int64"
            ]
          },
          "metadata": {},
          "execution_count": 9
        }
      ]
    },
    {
      "cell_type": "markdown",
      "source": [
        "## Visualize the scatter plot"
      ],
      "metadata": {
        "id": "E7QLX7N2HAB7"
      }
    },
    {
      "cell_type": "code",
      "source": [
        "plt.scatter(df.Bedroom2, df.Price)\n",
        "plt.xlabel('Bedroom2')\n",
        "plt.ylabel('Price')\n",
        "plt.show()"
      ],
      "metadata": {
        "colab": {
          "base_uri": "https://localhost:8080/",
          "height": 290
        },
        "id": "pwgYhMKt58E_",
        "outputId": "ce1784bb-fc12-4329-8919-eb6e76e07135"
      },
      "execution_count": 10,
      "outputs": [
        {
          "output_type": "display_data",
          "data": {
            "text/plain": [
              "<Figure size 432x288 with 1 Axes>"
            ],
            "image/png": "[encoded data removed]"
          },
          "metadata": {
            "needs_background": "light"
          }
        }
      ]
    },
    {
      "cell_type": "markdown",
      "source": [
        "# Define x and y"
      ],
      "metadata": {
        "id": "77TQhaxZzYpE"
      }
    },
    {
      "cell_type": "code",
      "source": [
        "df2 = df[['Price','Bedroom2']]\n",
        "df2"
      ],
      "metadata": {
        "colab": {
          "base_uri": "https://localhost:8080/",
          "height": 423
        },
        "id": "vNXI85YV6_wq",
        "outputId": "c81e90b4-be3b-4018-db00-09851208ea58"
      },
      "execution_count": 11,
      "outputs": [
        {
          "output_type": "execute_result",
          "data": {
            "text/plain": [
              "           Price Bedroom2\n",
              "0      1480000.0      2.0\n",
              "1      1035000.0      2.0\n",
              "2      1465000.0      3.0\n",
              "3       850000.0      3.0\n",
              "4      1600000.0      3.0\n",
              "...          ...      ...\n",
              "18391   622500.0      2.0\n",
              "18392  2500000.0      4.0\n",
              "18393  1100000.0      4.0\n",
              "18394  1285000.0      4.0\n",
              "18395  1050000.0      4.0\n",
              "\n",
              "[18396 rows x 2 columns]"
            ],
            "text/html": [
              "\n",
              "  <div id=\"df-dd3a50ff-b986-447d-9da1-4e502d0e8157\">\n",
              "    <div class=\"colab-df-container\">\n",
              "      <div>\n",
              "<style scoped>\n",
              "    .dataframe tbody tr th:only-of-type {\n",
              "        vertical-align: middle;\n",
              "    }\n",
              "\n",
              "    .dataframe tbody tr th {\n",
              "        vertical-align: top;\n",
              "    }\n",
              "\n",
              "    .dataframe thead th {\n",
              "        text-align: right;\n",
              "    }\n",
              "</style>\n",
              "<table border=\"1\" class=\"dataframe\">\n",
              "  <thead>\n",
              "    <tr style=\"text-align: right;\">\n",
              "      <th></th>\n",
              "      <th>Price</th>\n",
              "      <th>Bedroom2</th>\n",
              "    </tr>\n",
              "  </thead>\n",
              "  <tbody>\n",
              "    <tr>\n",
              "      <th>0</th>\n",
              "      <td>1480000.0</td>\n",
              "      <td>2.0</td>\n",
              "    </tr>\n",
              "    <tr>\n",
              "      <th>1</th>\n",
              "      <td>1035000.0</td>\n",
              "      <td>2.0</td>\n",
              "    </tr>\n",
              "    <tr>\n",
              "      <th>2</th>\n",
              "      <td>1465000.0</td>\n",
              "      <td>3.0</td>\n",
              "    </tr>\n",
              "    <tr>\n",
              "      <th>3</th>\n",
              "      <td>850000.0</td>\n",
              "      <td>3.0</td>\n",
              "    </tr>\n",
              "    <tr>\n",
              "      <th>4</th>\n",
              "      <td>1600000.0</td>\n",
              "      <td>3.0</td>\n",
              "    </tr>\n",
              "    <tr>\n",
              "      <th>...</th>\n",
              "      <td>...</td>\n",
              "      <td>...</td>\n",
              "    </tr>\n",
              "    <tr>\n",
              "      <th>18391</th>\n",
              "      <td>622500.0</td>\n",
              "      <td>2.0</td>\n",
              "    </tr>\n",
              "    <tr>\n",
              "      <th>18392</th>\n",
              "      <td>2500000.0</td>\n",
              "      <td>4.0</td>\n",
              "    </tr>\n",
              "    <tr>\n",
              "      <th>18393</th>\n",
              "      <td>1100000.0</td>\n",
              "      <td>4.0</td>\n",
              "    </tr>\n",
              "    <tr>\n",
              "      <th>18394</th>\n",
              "      <td>1285000.0</td>\n",
              "      <td>4.0</td>\n",
              "    </tr>\n",
              "    <tr>\n",
              "      <th>18395</th>\n",
              "      <td>1050000.0</td>\n",
              "      <td>4.0</td>\n",
              "    </tr>\n",
              "  </tbody>\n",
              "</table>\n",
              "<p>18396 rows × 2 columns</p>\n",
              "</div>\n",
              "      <button class=\"colab-df-convert\" onclick=\"convertToInteractive('df-dd3a50ff-b986-447d-9da1-4e502d0e8157')\"\n",
              "              title=\"Convert this dataframe to an interactive table.\"\n",
              "              style=\"display:none;\">\n",
              "        \n",
              "  <svg xmlns=\"http://www.w3.org/2000/svg\" height=\"24px\"viewBox=\"0 0 24 24\"\n",
              "       width=\"24px\">\n",
              "    <path d=\"M0 0h24v24H0V0z\" fill=\"none\"/>\n",
              "    <path d=\"M18.56 5.44l.94 2.06.94-2.06 2.06-.94-2.06-.94-.94-2.06-.94 2.06-2.06.94zm-11 1L8.5 8.5l.94-2.06 2.06-.94-2.06-.94L8.5 2.5l-.94 2.06-2.06.94zm10 10l.94 2.06.94-2.06 2.06-.94-2.06-.94-.94-2.06-.94 2.06-2.06.94z\"/><path d=\"M17.41 7.96l-1.37-1.37c-.4-.4-.92-.59-1.43-.59-.52 0-1.04.2-1.43.59L10.3 9.45l-7.72 7.72c-.78.78-.78 2.05 0 2.83L4 21.41c.39.39.9.59 1.41.59.51 0 1.02-.2 1.41-.59l7.78-7.78 2.81-2.81c.8-.78.8-2.07 0-2.86zM5.41 20L4 18.59l7.72-7.72 1.47 1.35L5.41 20z\"/>\n",
              "  </svg>\n",
              "      </button>\n",
              "      \n",
              "  <style>\n",
              "    .colab-df-container {\n",
              "      display:flex;\n",
              "      flex-wrap:wrap;\n",
              "      gap: 12px;\n",
              "    }\n",
              "\n",
              "    .colab-df-convert {\n",
              "      background-color: #E8F0FE;\n",
              "      border: none;\n",
              "      border-radius: 50%;\n",
              "      cursor: pointer;\n",
              "      display: none;\n",
              "      fill: #1967D2;\n",
              "      height: 32px;\n",
              "      padding: 0 0 0 0;\n",
              "      width: 32px;\n",
              "    }\n",
              "\n",
              "    .colab-df-convert:hover {\n",
              "      background-color: #E2EBFA;\n",
              "      box-shadow: 0px 1px 2px rgba(60, 64, 67, 0.3), 0px 1px 3px 1px rgba(60, 64, 67, 0.15);\n",
              "      fill: #174EA6;\n",
              "    }\n",
              "\n",
              "    [theme=dark] .colab-df-convert {\n",
              "      background-color: #3B4455;\n",
              "      fill: #D2E3FC;\n",
              "    }\n",
              "\n",
              "    [theme=dark] .colab-df-convert:hover {\n",
              "      background-color: #434B5C;\n",
              "      box-shadow: 0px 1px 3px 1px rgba(0, 0, 0, 0.15);\n",
              "      filter: drop-shadow(0px 1px 2px rgba(0, 0, 0, 0.3));\n",
              "      fill: #FFFFFF;\n",
              "    }\n",
              "  </style>\n",
              "\n",
              "      <script>\n",
              "        const buttonEl =\n",
              "          document.querySelector('#df-dd3a50ff-b986-447d-9da1-4e502d0e8157 button.colab-df-convert');\n",
              "        buttonEl.style.display =\n",
              "          google.colab.kernel.accessAllowed ? 'block' : 'none';\n",
              "\n",
              "        async function convertToInteractive(key) {\n",
              "          const element = document.querySelector('#df-dd3a50ff-b986-447d-9da1-4e502d0e8157');\n",
              "          const dataTable =\n",
              "            await google.colab.kernel.invokeFunction('convertToInteractive',\n",
              "                                                     [key], {});\n",
              "          if (!dataTable) return;\n",
              "\n",
              "          const docLinkHtml = 'Like what you see? Visit the ' +\n",
              "            '<a target=\"_blank\" href=https://colab.research.google.com/notebooks/data_table.ipynb>data table notebook</a>'\n",
              "            + ' to learn more about interactive tables.';\n",
              "          element.innerHTML = '';\n",
              "          dataTable['output_type'] = 'display_data';\n",
              "          await google.colab.output.renderOutput(dataTable, element);\n",
              "          const docLink = document.createElement('div');\n",
              "          docLink.innerHTML = docLinkHtml;\n",
              "          element.appendChild(docLink);\n",
              "        }\n",
              "      </script>\n",
              "    </div>\n",
              "  </div>\n",
              "  "
            ]
          },
          "metadata": {},
          "execution_count": 11
        }
      ]
    },
    {
      "cell_type": "code",
      "source": [
        "x = df2[['Bedroom2']]\n",
        "y = df2[['Price']]"
      ],
      "metadata": {
        "id": "LVZ9dvI092m4"
      },
      "execution_count": 12,
      "outputs": []
    },
    {
      "cell_type": "markdown",
      "source": [
        "## Train Test Split"
      ],
      "metadata": {
        "id": "tVU7PCEkIFtf"
      }
    },
    {
      "cell_type": "code",
      "source": [
        "x_train, x_test, y_train, y_test = train_test_split(x,\n",
        "                                                    y,\n",
        "                                                    test_size=0.2,\n",
        "                                                    random_state=42)"
      ],
      "metadata": {
        "id": "IfsnQ903-KPY"
      },
      "execution_count": 13,
      "outputs": []
    },
    {
      "cell_type": "code",
      "source": [
        "x_train.shape"
      ],
      "metadata": {
        "colab": {
          "base_uri": "https://localhost:8080/"
        },
        "id": "WhnYwwqXIKO8",
        "outputId": "a1590719-3247-410e-c2b5-29a582ea0a63"
      },
      "execution_count": 14,
      "outputs": [
        {
          "output_type": "execute_result",
          "data": {
            "text/plain": [
              "(14716, 1)"
            ]
          },
          "metadata": {},
          "execution_count": 14
        }
      ]
    },
    {
      "cell_type": "code",
      "source": [
        "y_train.shape"
      ],
      "metadata": {
        "colab": {
          "base_uri": "https://localhost:8080/"
        },
        "id": "7ceWHJeM-YUA",
        "outputId": "524651ea-cb13-40d8-f4c5-2ae75b6cd2c9"
      },
      "execution_count": 15,
      "outputs": [
        {
          "output_type": "execute_result",
          "data": {
            "text/plain": [
              "(14716, 1)"
            ]
          },
          "metadata": {},
          "execution_count": 15
        }
      ]
    },
    {
      "cell_type": "code",
      "source": [
        "x_test.shape"
      ],
      "metadata": {
        "colab": {
          "base_uri": "https://localhost:8080/"
        },
        "id": "NqkDoGadIOTV",
        "outputId": "7d776dac-860a-45bf-85da-3e418757922b"
      },
      "execution_count": 16,
      "outputs": [
        {
          "output_type": "execute_result",
          "data": {
            "text/plain": [
              "(3680, 1)"
            ]
          },
          "metadata": {},
          "execution_count": 16
        }
      ]
    },
    {
      "cell_type": "code",
      "source": [
        "y_test.shape"
      ],
      "metadata": {
        "colab": {
          "base_uri": "https://localhost:8080/"
        },
        "id": "rg2cKJj0-aXA",
        "outputId": "a8230f8b-d232-4744-8e84-f1d19235a0fe"
      },
      "execution_count": 17,
      "outputs": [
        {
          "output_type": "execute_result",
          "data": {
            "text/plain": [
              "(3680, 1)"
            ]
          },
          "metadata": {},
          "execution_count": 17
        }
      ]
    },
    {
      "cell_type": "markdown",
      "source": [
        "## Define Model"
      ],
      "metadata": {
        "id": "Dr3Lan6WISwg"
      }
    },
    {
      "cell_type": "code",
      "source": [
        "lr = LinearRegression()\n",
        "lr.fit(x_train,\n",
        "       y_train)"
      ],
      "metadata": {
        "colab": {
          "base_uri": "https://localhost:8080/"
        },
        "id": "ed_Ln-DG-baf",
        "outputId": "f7c73de6-9f13-4437-eb64-f2fad330d18b"
      },
      "execution_count": 18,
      "outputs": [
        {
          "output_type": "execute_result",
          "data": {
            "text/plain": [
              "LinearRegression()"
            ]
          },
          "metadata": {},
          "execution_count": 18
        }
      ]
    },
    {
      "cell_type": "markdown",
      "source": [
        "Print intercept and slope value of the model"
      ],
      "metadata": {
        "id": "a_D_FRthIXQj"
      }
    },
    {
      "cell_type": "code",
      "source": [
        "intercept = lr.intercept_[0]\n",
        "intercept"
      ],
      "metadata": {
        "colab": {
          "base_uri": "https://localhost:8080/"
        },
        "id": "0XR0DhT6-86h",
        "outputId": "ad0798f5-bb72-45da-e33e-57fd540eb2ea"
      },
      "execution_count": 19,
      "outputs": [
        {
          "output_type": "execute_result",
          "data": {
            "text/plain": [
              "753946.4578474571"
            ]
          },
          "metadata": {},
          "execution_count": 19
        }
      ]
    },
    {
      "cell_type": "code",
      "source": [
        "slope = lr.coef_[0][0]\n",
        "slope"
      ],
      "metadata": {
        "colab": {
          "base_uri": "https://localhost:8080/"
        },
        "id": "Y45uwlRK_vDS",
        "outputId": "2bf6d79f-3c18-42d6-c50b-d7a4ffc31893"
      },
      "execution_count": 20,
      "outputs": [
        {
          "output_type": "execute_result",
          "data": {
            "text/plain": [
              "127929.98391538032"
            ]
          },
          "metadata": {},
          "execution_count": 20
        }
      ]
    },
    {
      "cell_type": "markdown",
      "source": [
        "Coefficient value = positive -> the relationship between `Bedroom2` and `Price` according to the model = positive."
      ],
      "metadata": {
        "id": "96m63qAeADoV"
      }
    },
    {
      "cell_type": "markdown",
      "source": [
        "## Prediction"
      ],
      "metadata": {
        "id": "-75eb4Q2K1RR"
      }
    },
    {
      "cell_type": "code",
      "source": [
        "y_pred = lr.predict(x_test).flatten()\n",
        "y_pred"
      ],
      "metadata": {
        "colab": {
          "base_uri": "https://localhost:8080/"
        },
        "id": "7oY5spr-_3rm",
        "outputId": "10654dfe-12d5-401f-a485-42d72ac78f42"
      },
      "execution_count": 21,
      "outputs": [
        {
          "output_type": "execute_result",
          "data": {
            "text/plain": [
              "array([1265666.39350898,  753946.45784746, 1137736.4095936 , ...,\n",
              "       1009806.42567822, 1137736.4095936 , 1137736.4095936 ])"
            ]
          },
          "metadata": {},
          "execution_count": 21
        }
      ]
    },
    {
      "cell_type": "code",
      "source": [
        "df = pd.DataFrame({'Actual' : y_test['Price'],\n",
        "                   'Prediction' : y_pred}).reset_index().iloc[:, 1:]\n",
        "df"
      ],
      "metadata": {
        "colab": {
          "base_uri": "https://localhost:8080/",
          "height": 423
        },
        "id": "oBl-P9CvCb3f",
        "outputId": "80fa988b-7992-4514-abfb-86cf08554628"
      },
      "execution_count": 22,
      "outputs": [
        {
          "output_type": "execute_result",
          "data": {
            "text/plain": [
              "         Actual    Prediction\n",
              "0     1475000.0  1.265666e+06\n",
              "1     1901000.0  7.539465e+05\n",
              "2      955000.0  1.137736e+06\n",
              "3     1010000.0  1.137736e+06\n",
              "4      810000.0  1.137736e+06\n",
              "...         ...           ...\n",
              "3675  1460000.0  7.539465e+05\n",
              "3676   585500.0  1.009806e+06\n",
              "3677  1000000.0  1.009806e+06\n",
              "3678   760000.0  1.137736e+06\n",
              "3679  1250000.0  1.137736e+06\n",
              "\n",
              "[3680 rows x 2 columns]"
            ],
            "text/html": [
              "\n",
              "  <div id=\"df-04bc7789-ca45-422a-8371-04b85f7ff914\">\n",
              "    <div class=\"colab-df-container\">\n",
              "      <div>\n",
              "<style scoped>\n",
              "    .dataframe tbody tr th:only-of-type {\n",
              "        vertical-align: middle;\n",
              "    }\n",
              "\n",
              "    .dataframe tbody tr th {\n",
              "        vertical-align: top;\n",
              "    }\n",
              "\n",
              "    .dataframe thead th {\n",
              "        text-align: right;\n",
              "    }\n",
              "</style>\n",
              "<table border=\"1\" class=\"dataframe\">\n",
              "  <thead>\n",
              "    <tr style=\"text-align: right;\">\n",
              "      <th></th>\n",
              "      <th>Actual</th>\n",
              "      <th>Prediction</th>\n",
              "    </tr>\n",
              "  </thead>\n",
              "  <tbody>\n",
              "    <tr>\n",
              "      <th>0</th>\n",
              "      <td>1475000.0</td>\n",
              "      <td>1.265666e+06</td>\n",
              "    </tr>\n",
              "    <tr>\n",
              "      <th>1</th>\n",
              "      <td>1901000.0</td>\n",
              "      <td>7.539465e+05</td>\n",
              "    </tr>\n",
              "    <tr>\n",
              "      <th>2</th>\n",
              "      <td>955000.0</td>\n",
              "      <td>1.137736e+06</td>\n",
              "    </tr>\n",
              "    <tr>\n",
              "      <th>3</th>\n",
              "      <td>1010000.0</td>\n",
              "      <td>1.137736e+06</td>\n",
              "    </tr>\n",
              "    <tr>\n",
              "      <th>4</th>\n",
              "      <td>810000.0</td>\n",
              "      <td>1.137736e+06</td>\n",
              "    </tr>\n",
              "    <tr>\n",
              "      <th>...</th>\n",
              "      <td>...</td>\n",
              "      <td>...</td>\n",
              "    </tr>\n",
              "    <tr>\n",
              "      <th>3675</th>\n",
              "      <td>1460000.0</td>\n",
              "      <td>7.539465e+05</td>\n",
              "    </tr>\n",
              "    <tr>\n",
              "      <th>3676</th>\n",
              "      <td>585500.0</td>\n",
              "      <td>1.009806e+06</td>\n",
              "    </tr>\n",
              "    <tr>\n",
              "      <th>3677</th>\n",
              "      <td>1000000.0</td>\n",
              "      <td>1.009806e+06</td>\n",
              "    </tr>\n",
              "    <tr>\n",
              "      <th>3678</th>\n",
              "      <td>760000.0</td>\n",
              "      <td>1.137736e+06</td>\n",
              "    </tr>\n",
              "    <tr>\n",
              "      <th>3679</th>\n",
              "      <td>1250000.0</td>\n",
              "      <td>1.137736e+06</td>\n",
              "    </tr>\n",
              "  </tbody>\n",
              "</table>\n",
              "<p>3680 rows × 2 columns</p>\n",
              "</div>\n",
              "      <button class=\"colab-df-convert\" onclick=\"convertToInteractive('df-04bc7789-ca45-422a-8371-04b85f7ff914')\"\n",
              "              title=\"Convert this dataframe to an interactive table.\"\n",
              "              style=\"display:none;\">\n",
              "        \n",
              "  <svg xmlns=\"http://www.w3.org/2000/svg\" height=\"24px\"viewBox=\"0 0 24 24\"\n",
              "       width=\"24px\">\n",
              "    <path d=\"M0 0h24v24H0V0z\" fill=\"none\"/>\n",
              "    <path d=\"M18.56 5.44l.94 2.06.94-2.06 2.06-.94-2.06-.94-.94-2.06-.94 2.06-2.06.94zm-11 1L8.5 8.5l.94-2.06 2.06-.94-2.06-.94L8.5 2.5l-.94 2.06-2.06.94zm10 10l.94 2.06.94-2.06 2.06-.94-2.06-.94-.94-2.06-.94 2.06-2.06.94z\"/><path d=\"M17.41 7.96l-1.37-1.37c-.4-.4-.92-.59-1.43-.59-.52 0-1.04.2-1.43.59L10.3 9.45l-7.72 7.72c-.78.78-.78 2.05 0 2.83L4 21.41c.39.39.9.59 1.41.59.51 0 1.02-.2 1.41-.59l7.78-7.78 2.81-2.81c.8-.78.8-2.07 0-2.86zM5.41 20L4 18.59l7.72-7.72 1.47 1.35L5.41 20z\"/>\n",
              "  </svg>\n",
              "      </button>\n",
              "      \n",
              "  <style>\n",
              "    .colab-df-container {\n",
              "      display:flex;\n",
              "      flex-wrap:wrap;\n",
              "      gap: 12px;\n",
              "    }\n",
              "\n",
              "    .colab-df-convert {\n",
              "      background-color: #E8F0FE;\n",
              "      border: none;\n",
              "      border-radius: 50%;\n",
              "      cursor: pointer;\n",
              "      display: none;\n",
              "      fill: #1967D2;\n",
              "      height: 32px;\n",
              "      padding: 0 0 0 0;\n",
              "      width: 32px;\n",
              "    }\n",
              "\n",
              "    .colab-df-convert:hover {\n",
              "      background-color: #E2EBFA;\n",
              "      box-shadow: 0px 1px 2px rgba(60, 64, 67, 0.3), 0px 1px 3px 1px rgba(60, 64, 67, 0.15);\n",
              "      fill: #174EA6;\n",
              "    }\n",
              "\n",
              "    [theme=dark] .colab-df-convert {\n",
              "      background-color: #3B4455;\n",
              "      fill: #D2E3FC;\n",
              "    }\n",
              "\n",
              "    [theme=dark] .colab-df-convert:hover {\n",
              "      background-color: #434B5C;\n",
              "      box-shadow: 0px 1px 3px 1px rgba(0, 0, 0, 0.15);\n",
              "      filter: drop-shadow(0px 1px 2px rgba(0, 0, 0, 0.3));\n",
              "      fill: #FFFFFF;\n",
              "    }\n",
              "  </style>\n",
              "\n",
              "      <script>\n",
              "        const buttonEl =\n",
              "          document.querySelector('#df-04bc7789-ca45-422a-8371-04b85f7ff914 button.colab-df-convert');\n",
              "        buttonEl.style.display =\n",
              "          google.colab.kernel.accessAllowed ? 'block' : 'none';\n",
              "\n",
              "        async function convertToInteractive(key) {\n",
              "          const element = document.querySelector('#df-04bc7789-ca45-422a-8371-04b85f7ff914');\n",
              "          const dataTable =\n",
              "            await google.colab.kernel.invokeFunction('convertToInteractive',\n",
              "                                                     [key], {});\n",
              "          if (!dataTable) return;\n",
              "\n",
              "          const docLinkHtml = 'Like what you see? Visit the ' +\n",
              "            '<a target=\"_blank\" href=https://colab.research.google.com/notebooks/data_table.ipynb>data table notebook</a>'\n",
              "            + ' to learn more about interactive tables.';\n",
              "          element.innerHTML = '';\n",
              "          dataTable['output_type'] = 'display_data';\n",
              "          await google.colab.output.renderOutput(dataTable, element);\n",
              "          const docLink = document.createElement('div');\n",
              "          docLink.innerHTML = docLinkHtml;\n",
              "          element.appendChild(docLink);\n",
              "        }\n",
              "      </script>\n",
              "    </div>\n",
              "  </div>\n",
              "  "
            ]
          },
          "metadata": {},
          "execution_count": 22
        }
      ]
    },
    {
      "cell_type": "code",
      "source": [
        "# The prediction result\n",
        "df.head(75).plot(kind='line',\n",
        "                 figsize=(20,5))"
      ],
      "metadata": {
        "colab": {
          "base_uri": "https://localhost:8080/",
          "height": 239
        },
        "id": "4IU3dEZGCujn",
        "outputId": "9e5c8f92-6bba-4b9d-b02b-0daf78c4e1c9"
      },
      "execution_count": 23,
      "outputs": [
        {
          "output_type": "execute_result",
          "data": {
            "text/plain": [
              "<matplotlib.axes._subplots.AxesSubplot at 0x7fe85215a950>"
            ]
          },
          "metadata": {},
          "execution_count": 23
        },
        {
          "output_type": "display_data",
          "data": {
            "text/plain": [
              "<Figure size 1440x360 with 1 Axes>"
            ],
            "image/png": "[encoded data removed]"
          },
          "metadata": {
            "needs_background": "light"
          }
        }
      ]
    },
    {
      "cell_type": "markdown",
      "source": [
        "## Evaluation Metrics"
      ],
      "metadata": {
        "id": "AU_MRWFeK7F4"
      }
    },
    {
      "cell_type": "code",
      "source": [
        "mae = metrics.mean_absolute_error(y_test, y_pred)\n",
        "mse = metrics.mean_squared_error(y_test, y_pred)\n",
        "rmse = np.sqrt(metrics.mean_squared_error(y_test, y_pred))\n",
        "r2_score = metrics.r2_score(y_test, y_pred)\n",
        "\n",
        "print('Mean Absolute Error (MAE) :', mae)\n",
        "print('Mean Squared Error (MSE) :', mse)\n",
        "print('Root Mean Squared Error (RMSE) :', rmse)\n",
        "print('R-Squared (R2_Score) :', r2_score)"
      ],
      "metadata": {
        "colab": {
          "base_uri": "https://localhost:8080/"
        },
        "id": "CDJj5jQLEJvB",
        "outputId": "6286079a-795c-4209-db1c-50b33bf99d85"
      },
      "execution_count": 24,
      "outputs": [
        {
          "output_type": "stream",
          "name": "stdout",
          "text": [
            "Mean Absolute Error (MAE) : 432425.97677149926\n",
            "Mean Squared Error (MSE) : 368915905382.0195\n",
            "Root Mean Squared Error (RMSE) : 607384.479042739\n",
            "R-Squared (R2_Score) : 0.07850943791746612\n"
          ]
        }
      ]
    },
    {
      "cell_type": "markdown",
      "source": [
        "Based on the graph above, it can be seen that the predicted value is still far away from the the actual value and based on the evaluation metrics, it can be concluded that the error value generated by the model is still too high. This is because in this experimental, we only use 1 independent variable to predict the dependent variable."
      ],
      "metadata": {
        "id": "4OLR1rvQv9YU"
      }
    },
    {
      "cell_type": "markdown",
      "source": [
        "# Multiple Linear Regression"
      ],
      "metadata": {
        "id": "I5TW-go4GFdD"
      }
    },
    {
      "cell_type": "markdown",
      "source": [
        "- Multiple linear regression is a regression model that estimates the relationship between a quantitative dependent variable and two or more independent variables using a straight line."
      ],
      "metadata": {
        "id": "6fj_VeZYxv-L"
      }
    },
    {
      "cell_type": "markdown",
      "source": [
        "![image.png](data:image/png;base64,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)"
      ],
      "metadata": {
        "id": "LtygHwu8yZGX"
      }
    },
    {
      "cell_type": "markdown",
      "source": [
        "## Load Data"
      ],
      "metadata": {
        "id": "kM-UDfBFL6e3"
      }
    },
    {
      "cell_type": "code",
      "source": [
        "dataset = pd.read_csv('https://raw.githubusercontent.com/Gonnuru/Admission_Prediction/master/Admission_Predict.csv')\n",
        "dataset"
      ],
      "metadata": {
        "id": "nTvJeFs1GIWF",
        "colab": {
          "base_uri": "https://localhost:8080/",
          "height": 485
        },
        "outputId": "fad55fd6-442e-4b71-f9f5-ba43d34a1ff0"
      },
      "execution_count": 25,
      "outputs": [
        {
          "output_type": "execute_result",
          "data": {
            "text/plain": [
              "     Serial No.  GRE Score  TOEFL Score  University Rating  SOP  LOR   CGPA  \\\n",
              "0             1        337          118                  4  4.5   4.5  9.65   \n",
              "1             2        324          107                  4  4.0   4.5  8.87   \n",
              "2             3        316          104                  3  3.0   3.5  8.00   \n",
              "3             4        322          110                  3  3.5   2.5  8.67   \n",
              "4             5        314          103                  2  2.0   3.0  8.21   \n",
              "..          ...        ...          ...                ...  ...   ...   ...   \n",
              "495         496        332          108                  5  4.5   4.0  9.02   \n",
              "496         497        337          117                  5  5.0   5.0  9.87   \n",
              "497         498        330          120                  5  4.5   5.0  9.56   \n",
              "498         499        312          103                  4  4.0   5.0  8.43   \n",
              "499         500        327          113                  4  4.5   4.5  9.04   \n",
              "\n",
              "     Research  Chance of Admit  \n",
              "0           1             0.92  \n",
              "1           1             0.76  \n",
              "2           1             0.72  \n",
              "3           1             0.80  \n",
              "4           0             0.65  \n",
              "..        ...              ...  \n",
              "495         1             0.87  \n",
              "496         1             0.96  \n",
              "497         1             0.93  \n",
              "498         0             0.73  \n",
              "499         0             0.84  \n",
              "\n",
              "[500 rows x 9 columns]"
            ],
            "text/html": [
              "\n",
              "  <div id=\"df-0a2a4cd2-a634-47cd-a384-dba04fb6be6e\">\n",
              "    <div class=\"colab-df-container\">\n",
              "      <div>\n",
              "<style scoped>\n",
              "    .dataframe tbody tr th:only-of-type {\n",
              "        vertical-align: middle;\n",
              "    }\n",
              "\n",
              "    .dataframe tbody tr th {\n",
              "        vertical-align: top;\n",
              "    }\n",
              "\n",
              "    .dataframe thead th {\n",
              "        text-align: right;\n",
              "    }\n",
              "</style>\n",
              "<table border=\"1\" class=\"dataframe\">\n",
              "  <thead>\n",
              "    <tr style=\"text-align: right;\">\n",
              "      <th></th>\n",
              "      <th>Serial No.</th>\n",
              "      <th>GRE Score</th>\n",
              "      <th>TOEFL Score</th>\n",
              "      <th>University Rating</th>\n",
              "      <th>SOP</th>\n",
              "      <th>LOR</th>\n",
              "      <th>CGPA</th>\n",
              "      <th>Research</th>\n",
              "      <th>Chance of Admit</th>\n",
              "    </tr>\n",
              "  </thead>\n",
              "  <tbody>\n",
              "    <tr>\n",
              "      <th>0</th>\n",
              "      <td>1</td>\n",
              "      <td>337</td>\n",
              "      <td>118</td>\n",
              "      <td>4</td>\n",
              "      <td>4.5</td>\n",
              "      <td>4.5</td>\n",
              "      <td>9.65</td>\n",
              "      <td>1</td>\n",
              "      <td>0.92</td>\n",
              "    </tr>\n",
              "    <tr>\n",
              "      <th>1</th>\n",
              "      <td>2</td>\n",
              "      <td>324</td>\n",
              "      <td>107</td>\n",
              "      <td>4</td>\n",
              "      <td>4.0</td>\n",
              "      <td>4.5</td>\n",
              "      <td>8.87</td>\n",
              "      <td>1</td>\n",
              "      <td>0.76</td>\n",
              "    </tr>\n",
              "    <tr>\n",
              "      <th>2</th>\n",
              "      <td>3</td>\n",
              "      <td>316</td>\n",
              "      <td>104</td>\n",
              "      <td>3</td>\n",
              "      <td>3.0</td>\n",
              "      <td>3.5</td>\n",
              "      <td>8.00</td>\n",
              "      <td>1</td>\n",
              "      <td>0.72</td>\n",
              "    </tr>\n",
              "    <tr>\n",
              "      <th>3</th>\n",
              "      <td>4</td>\n",
              "      <td>322</td>\n",
              "      <td>110</td>\n",
              "      <td>3</td>\n",
              "      <td>3.5</td>\n",
              "      <td>2.5</td>\n",
              "      <td>8.67</td>\n",
              "      <td>1</td>\n",
              "      <td>0.80</td>\n",
              "    </tr>\n",
              "    <tr>\n",
              "      <th>4</th>\n",
              "      <td>5</td>\n",
              "      <td>314</td>\n",
              "      <td>103</td>\n",
              "      <td>2</td>\n",
              "      <td>2.0</td>\n",
              "      <td>3.0</td>\n",
              "      <td>8.21</td>\n",
              "      <td>0</td>\n",
              "      <td>0.65</td>\n",
              "    </tr>\n",
              "    <tr>\n",
              "      <th>...</th>\n",
              "      <td>...</td>\n",
              "      <td>...</td>\n",
              "      <td>...</td>\n",
              "      <td>...</td>\n",
              "      <td>...</td>\n",
              "      <td>...</td>\n",
              "      <td>...</td>\n",
              "      <td>...</td>\n",
              "      <td>...</td>\n",
              "    </tr>\n",
              "    <tr>\n",
              "      <th>495</th>\n",
              "      <td>496</td>\n",
              "      <td>332</td>\n",
              "      <td>108</td>\n",
              "      <td>5</td>\n",
              "      <td>4.5</td>\n",
              "      <td>4.0</td>\n",
              "      <td>9.02</td>\n",
              "      <td>1</td>\n",
              "      <td>0.87</td>\n",
              "    </tr>\n",
              "    <tr>\n",
              "      <th>496</th>\n",
              "      <td>497</td>\n",
              "      <td>337</td>\n",
              "      <td>117</td>\n",
              "      <td>5</td>\n",
              "      <td>5.0</td>\n",
              "      <td>5.0</td>\n",
              "      <td>9.87</td>\n",
              "      <td>1</td>\n",
              "      <td>0.96</td>\n",
              "    </tr>\n",
              "    <tr>\n",
              "      <th>497</th>\n",
              "      <td>498</td>\n",
              "      <td>330</td>\n",
              "      <td>120</td>\n",
              "      <td>5</td>\n",
              "      <td>4.5</td>\n",
              "      <td>5.0</td>\n",
              "      <td>9.56</td>\n",
              "      <td>1</td>\n",
              "      <td>0.93</td>\n",
              "    </tr>\n",
              "    <tr>\n",
              "      <th>498</th>\n",
              "      <td>499</td>\n",
              "      <td>312</td>\n",
              "      <td>103</td>\n",
              "      <td>4</td>\n",
              "      <td>4.0</td>\n",
              "      <td>5.0</td>\n",
              "      <td>8.43</td>\n",
              "      <td>0</td>\n",
              "      <td>0.73</td>\n",
              "    </tr>\n",
              "    <tr>\n",
              "      <th>499</th>\n",
              "      <td>500</td>\n",
              "      <td>327</td>\n",
              "      <td>113</td>\n",
              "      <td>4</td>\n",
              "      <td>4.5</td>\n",
              "      <td>4.5</td>\n",
              "      <td>9.04</td>\n",
              "      <td>0</td>\n",
              "      <td>0.84</td>\n",
              "    </tr>\n",
              "  </tbody>\n",
              "</table>\n",
              "<p>500 rows × 9 columns</p>\n",
              "</div>\n",
              "      <button class=\"colab-df-convert\" onclick=\"convertToInteractive('df-0a2a4cd2-a634-47cd-a384-dba04fb6be6e')\"\n",
              "              title=\"Convert this dataframe to an interactive table.\"\n",
              "              style=\"display:none;\">\n",
              "        \n",
              "  <svg xmlns=\"http://www.w3.org/2000/svg\" height=\"24px\"viewBox=\"0 0 24 24\"\n",
              "       width=\"24px\">\n",
              "    <path d=\"M0 0h24v24H0V0z\" fill=\"none\"/>\n",
              "    <path d=\"M18.56 5.44l.94 2.06.94-2.06 2.06-.94-2.06-.94-.94-2.06-.94 2.06-2.06.94zm-11 1L8.5 8.5l.94-2.06 2.06-.94-2.06-.94L8.5 2.5l-.94 2.06-2.06.94zm10 10l.94 2.06.94-2.06 2.06-.94-2.06-.94-.94-2.06-.94 2.06-2.06.94z\"/><path d=\"M17.41 7.96l-1.37-1.37c-.4-.4-.92-.59-1.43-.59-.52 0-1.04.2-1.43.59L10.3 9.45l-7.72 7.72c-.78.78-.78 2.05 0 2.83L4 21.41c.39.39.9.59 1.41.59.51 0 1.02-.2 1.41-.59l7.78-7.78 2.81-2.81c.8-.78.8-2.07 0-2.86zM5.41 20L4 18.59l7.72-7.72 1.47 1.35L5.41 20z\"/>\n",
              "  </svg>\n",
              "      </button>\n",
              "      \n",
              "  <style>\n",
              "    .colab-df-container {\n",
              "      display:flex;\n",
              "      flex-wrap:wrap;\n",
              "      gap: 12px;\n",
              "    }\n",
              "\n",
              "    .colab-df-convert {\n",
              "      background-color: #E8F0FE;\n",
              "      border: none;\n",
              "      border-radius: 50%;\n",
              "      cursor: pointer;\n",
              "      display: none;\n",
              "      fill: #1967D2;\n",
              "      height: 32px;\n",
              "      padding: 0 0 0 0;\n",
              "      width: 32px;\n",
              "    }\n",
              "\n",
              "    .colab-df-convert:hover {\n",
              "      background-color: #E2EBFA;\n",
              "      box-shadow: 0px 1px 2px rgba(60, 64, 67, 0.3), 0px 1px 3px 1px rgba(60, 64, 67, 0.15);\n",
              "      fill: #174EA6;\n",
              "    }\n",
              "\n",
              "    [theme=dark] .colab-df-convert {\n",
              "      background-color: #3B4455;\n",
              "      fill: #D2E3FC;\n",
              "    }\n",
              "\n",
              "    [theme=dark] .colab-df-convert:hover {\n",
              "      background-color: #434B5C;\n",
              "      box-shadow: 0px 1px 3px 1px rgba(0, 0, 0, 0.15);\n",
              "      filter: drop-shadow(0px 1px 2px rgba(0, 0, 0, 0.3));\n",
              "      fill: #FFFFFF;\n",
              "    }\n",
              "  </style>\n",
              "\n",
              "      <script>\n",
              "        const buttonEl =\n",
              "          document.querySelector('#df-0a2a4cd2-a634-47cd-a384-dba04fb6be6e button.colab-df-convert');\n",
              "        buttonEl.style.display =\n",
              "          google.colab.kernel.accessAllowed ? 'block' : 'none';\n",
              "\n",
              "        async function convertToInteractive(key) {\n",
              "          const element = document.querySelector('#df-0a2a4cd2-a634-47cd-a384-dba04fb6be6e');\n",
              "          const dataTable =\n",
              "            await google.colab.kernel.invokeFunction('convertToInteractive',\n",
              "                                                     [key], {});\n",
              "          if (!dataTable) return;\n",
              "\n",
              "          const docLinkHtml = 'Like what you see? Visit the ' +\n",
              "            '<a target=\"_blank\" href=https://colab.research.google.com/notebooks/data_table.ipynb>data table notebook</a>'\n",
              "            + ' to learn more about interactive tables.';\n",
              "          element.innerHTML = '';\n",
              "          dataTable['output_type'] = 'display_data';\n",
              "          await google.colab.output.renderOutput(dataTable, element);\n",
              "          const docLink = document.createElement('div');\n",
              "          docLink.innerHTML = docLinkHtml;\n",
              "          element.appendChild(docLink);\n",
              "        }\n",
              "      </script>\n",
              "    </div>\n",
              "  </div>\n",
              "  "
            ]
          },
          "metadata": {},
          "execution_count": 25
        }
      ]
    },
    {
      "cell_type": "markdown",
      "source": [
        "Goals:\n",
        "- Predicting the dependent variable : `Chance of Admit`"
      ],
      "metadata": {
        "id": "wE9LdTDEy5KL"
      }
    },
    {
      "cell_type": "markdown",
      "source": [
        "## Dataset Info"
      ],
      "metadata": {
        "id": "DccegN-TzhmW"
      }
    },
    {
      "cell_type": "code",
      "source": [
        "dataset.info()"
      ],
      "metadata": {
        "colab": {
          "base_uri": "https://localhost:8080/"
        },
        "id": "ehDT7gGdyzyD",
        "outputId": "441aed68-c80d-4618-9dae-94554e055478"
      },
      "execution_count": 26,
      "outputs": [
        {
          "output_type": "stream",
          "name": "stdout",
          "text": [
            "<class 'pandas.core.frame.DataFrame'>\n",
            "RangeIndex: 500 entries, 0 to 499\n",
            "Data columns (total 9 columns):\n",
            " #   Column             Non-Null Count  Dtype  \n",
            "---  ------             --------------  -----  \n",
            " 0   Serial No.         500 non-null    int64  \n",
            " 1   GRE Score          500 non-null    int64  \n",
            " 2   TOEFL Score        500 non-null    int64  \n",
            " 3   University Rating  500 non-null    int64  \n",
            " 4   SOP                500 non-null    float64\n",
            " 5   LOR                500 non-null    float64\n",
            " 6   CGPA               500 non-null    float64\n",
            " 7   Research           500 non-null    int64  \n",
            " 8   Chance of Admit    500 non-null    float64\n",
            "dtypes: float64(4), int64(5)\n",
            "memory usage: 35.3 KB\n"
          ]
        }
      ]
    },
    {
      "cell_type": "markdown",
      "source": [
        "## Drop Variabel yang kurang relevan"
      ],
      "metadata": {
        "id": "j9Q1hQyQzo0-"
      }
    },
    {
      "cell_type": "code",
      "source": [
        "dataset = dataset.drop(['Serial No.'], axis=1)\n",
        "dataset.head()"
      ],
      "metadata": {
        "colab": {
          "base_uri": "https://localhost:8080/",
          "height": 206
        },
        "id": "g5IlckN5zkeJ",
        "outputId": "383c0179-fd6f-4d14-c900-7225b50d255c"
      },
      "execution_count": 27,
      "outputs": [
        {
          "output_type": "execute_result",
          "data": {
            "text/plain": [
              "   GRE Score  TOEFL Score  University Rating  SOP  LOR   CGPA  Research  \\\n",
              "0        337          118                  4  4.5   4.5  9.65         1   \n",
              "1        324          107                  4  4.0   4.5  8.87         1   \n",
              "2        316          104                  3  3.0   3.5  8.00         1   \n",
              "3        322          110                  3  3.5   2.5  8.67         1   \n",
              "4        314          103                  2  2.0   3.0  8.21         0   \n",
              "\n",
              "   Chance of Admit  \n",
              "0             0.92  \n",
              "1             0.76  \n",
              "2             0.72  \n",
              "3             0.80  \n",
              "4             0.65  "
            ],
            "text/html": [
              "\n",
              "  <div id=\"df-2f2b0164-f3cd-490d-a93f-12b4c90a41e1\">\n",
              "    <div class=\"colab-df-container\">\n",
              "      <div>\n",
              "<style scoped>\n",
              "    .dataframe tbody tr th:only-of-type {\n",
              "        vertical-align: middle;\n",
              "    }\n",
              "\n",
              "    .dataframe tbody tr th {\n",
              "        vertical-align: top;\n",
              "    }\n",
              "\n",
              "    .dataframe thead th {\n",
              "        text-align: right;\n",
              "    }\n",
              "</style>\n",
              "<table border=\"1\" class=\"dataframe\">\n",
              "  <thead>\n",
              "    <tr style=\"text-align: right;\">\n",
              "      <th></th>\n",
              "      <th>GRE Score</th>\n",
              "      <th>TOEFL Score</th>\n",
              "      <th>University Rating</th>\n",
              "      <th>SOP</th>\n",
              "      <th>LOR</th>\n",
              "      <th>CGPA</th>\n",
              "      <th>Research</th>\n",
              "      <th>Chance of Admit</th>\n",
              "    </tr>\n",
              "  </thead>\n",
              "  <tbody>\n",
              "    <tr>\n",
              "      <th>0</th>\n",
              "      <td>337</td>\n",
              "      <td>118</td>\n",
              "      <td>4</td>\n",
              "      <td>4.5</td>\n",
              "      <td>4.5</td>\n",
              "      <td>9.65</td>\n",
              "      <td>1</td>\n",
              "      <td>0.92</td>\n",
              "    </tr>\n",
              "    <tr>\n",
              "      <th>1</th>\n",
              "      <td>324</td>\n",
              "      <td>107</td>\n",
              "      <td>4</td>\n",
              "      <td>4.0</td>\n",
              "      <td>4.5</td>\n",
              "      <td>8.87</td>\n",
              "      <td>1</td>\n",
              "      <td>0.76</td>\n",
              "    </tr>\n",
              "    <tr>\n",
              "      <th>2</th>\n",
              "      <td>316</td>\n",
              "      <td>104</td>\n",
              "      <td>3</td>\n",
              "      <td>3.0</td>\n",
              "      <td>3.5</td>\n",
              "      <td>8.00</td>\n",
              "      <td>1</td>\n",
              "      <td>0.72</td>\n",
              "    </tr>\n",
              "    <tr>\n",
              "      <th>3</th>\n",
              "      <td>322</td>\n",
              "      <td>110</td>\n",
              "      <td>3</td>\n",
              "      <td>3.5</td>\n",
              "      <td>2.5</td>\n",
              "      <td>8.67</td>\n",
              "      <td>1</td>\n",
              "      <td>0.80</td>\n",
              "    </tr>\n",
              "    <tr>\n",
              "      <th>4</th>\n",
              "      <td>314</td>\n",
              "      <td>103</td>\n",
              "      <td>2</td>\n",
              "      <td>2.0</td>\n",
              "      <td>3.0</td>\n",
              "      <td>8.21</td>\n",
              "      <td>0</td>\n",
              "      <td>0.65</td>\n",
              "    </tr>\n",
              "  </tbody>\n",
              "</table>\n",
              "</div>\n",
              "      <button class=\"colab-df-convert\" onclick=\"convertToInteractive('df-2f2b0164-f3cd-490d-a93f-12b4c90a41e1')\"\n",
              "              title=\"Convert this dataframe to an interactive table.\"\n",
              "              style=\"display:none;\">\n",
              "        \n",
              "  <svg xmlns=\"http://www.w3.org/2000/svg\" height=\"24px\"viewBox=\"0 0 24 24\"\n",
              "       width=\"24px\">\n",
              "    <path d=\"M0 0h24v24H0V0z\" fill=\"none\"/>\n",
              "    <path d=\"M18.56 5.44l.94 2.06.94-2.06 2.06-.94-2.06-.94-.94-2.06-.94 2.06-2.06.94zm-11 1L8.5 8.5l.94-2.06 2.06-.94-2.06-.94L8.5 2.5l-.94 2.06-2.06.94zm10 10l.94 2.06.94-2.06 2.06-.94-2.06-.94-.94-2.06-.94 2.06-2.06.94z\"/><path d=\"M17.41 7.96l-1.37-1.37c-.4-.4-.92-.59-1.43-.59-.52 0-1.04.2-1.43.59L10.3 9.45l-7.72 7.72c-.78.78-.78 2.05 0 2.83L4 21.41c.39.39.9.59 1.41.59.51 0 1.02-.2 1.41-.59l7.78-7.78 2.81-2.81c.8-.78.8-2.07 0-2.86zM5.41 20L4 18.59l7.72-7.72 1.47 1.35L5.41 20z\"/>\n",
              "  </svg>\n",
              "      </button>\n",
              "      \n",
              "  <style>\n",
              "    .colab-df-container {\n",
              "      display:flex;\n",
              "      flex-wrap:wrap;\n",
              "      gap: 12px;\n",
              "    }\n",
              "\n",
              "    .colab-df-convert {\n",
              "      background-color: #E8F0FE;\n",
              "      border: none;\n",
              "      border-radius: 50%;\n",
              "      cursor: pointer;\n",
              "      display: none;\n",
              "      fill: #1967D2;\n",
              "      height: 32px;\n",
              "      padding: 0 0 0 0;\n",
              "      width: 32px;\n",
              "    }\n",
              "\n",
              "    .colab-df-convert:hover {\n",
              "      background-color: #E2EBFA;\n",
              "      box-shadow: 0px 1px 2px rgba(60, 64, 67, 0.3), 0px 1px 3px 1px rgba(60, 64, 67, 0.15);\n",
              "      fill: #174EA6;\n",
              "    }\n",
              "\n",
              "    [theme=dark] .colab-df-convert {\n",
              "      background-color: #3B4455;\n",
              "      fill: #D2E3FC;\n",
              "    }\n",
              "\n",
              "    [theme=dark] .colab-df-convert:hover {\n",
              "      background-color: #434B5C;\n",
              "      box-shadow: 0px 1px 3px 1px rgba(0, 0, 0, 0.15);\n",
              "      filter: drop-shadow(0px 1px 2px rgba(0, 0, 0, 0.3));\n",
              "      fill: #FFFFFF;\n",
              "    }\n",
              "  </style>\n",
              "\n",
              "      <script>\n",
              "        const buttonEl =\n",
              "          document.querySelector('#df-2f2b0164-f3cd-490d-a93f-12b4c90a41e1 button.colab-df-convert');\n",
              "        buttonEl.style.display =\n",
              "          google.colab.kernel.accessAllowed ? 'block' : 'none';\n",
              "\n",
              "        async function convertToInteractive(key) {\n",
              "          const element = document.querySelector('#df-2f2b0164-f3cd-490d-a93f-12b4c90a41e1');\n",
              "          const dataTable =\n",
              "            await google.colab.kernel.invokeFunction('convertToInteractive',\n",
              "                                                     [key], {});\n",
              "          if (!dataTable) return;\n",
              "\n",
              "          const docLinkHtml = 'Like what you see? Visit the ' +\n",
              "            '<a target=\"_blank\" href=https://colab.research.google.com/notebooks/data_table.ipynb>data table notebook</a>'\n",
              "            + ' to learn more about interactive tables.';\n",
              "          element.innerHTML = '';\n",
              "          dataTable['output_type'] = 'display_data';\n",
              "          await google.colab.output.renderOutput(dataTable, element);\n",
              "          const docLink = document.createElement('div');\n",
              "          docLink.innerHTML = docLinkHtml;\n",
              "          element.appendChild(docLink);\n",
              "        }\n",
              "      </script>\n",
              "    </div>\n",
              "  </div>\n",
              "  "
            ]
          },
          "metadata": {},
          "execution_count": 27
        }
      ]
    },
    {
      "cell_type": "markdown",
      "source": [
        "## Define x dan y"
      ],
      "metadata": {
        "id": "vwBrq9rIz7Ko"
      }
    },
    {
      "cell_type": "code",
      "source": [
        "x = dataset.drop(['Chance of Admit'], axis=1)\n",
        "x.head()"
      ],
      "metadata": {
        "colab": {
          "base_uri": "https://localhost:8080/",
          "height": 206
        },
        "id": "zkJsGs8K4JTL",
        "outputId": "00294e42-32ae-49ad-9818-073e81a5dc85"
      },
      "execution_count": 28,
      "outputs": [
        {
          "output_type": "execute_result",
          "data": {
            "text/plain": [
              "   GRE Score  TOEFL Score  University Rating  SOP  LOR   CGPA  Research\n",
              "0        337          118                  4  4.5   4.5  9.65         1\n",
              "1        324          107                  4  4.0   4.5  8.87         1\n",
              "2        316          104                  3  3.0   3.5  8.00         1\n",
              "3        322          110                  3  3.5   2.5  8.67         1\n",
              "4        314          103                  2  2.0   3.0  8.21         0"
            ],
            "text/html": [
              "\n",
              "  <div id=\"df-62a33908-1ff5-43e6-8fda-3b0066b10be7\">\n",
              "    <div class=\"colab-df-container\">\n",
              "      <div>\n",
              "<style scoped>\n",
              "    .dataframe tbody tr th:only-of-type {\n",
              "        vertical-align: middle;\n",
              "    }\n",
              "\n",
              "    .dataframe tbody tr th {\n",
              "        vertical-align: top;\n",
              "    }\n",
              "\n",
              "    .dataframe thead th {\n",
              "        text-align: right;\n",
              "    }\n",
              "</style>\n",
              "<table border=\"1\" class=\"dataframe\">\n",
              "  <thead>\n",
              "    <tr style=\"text-align: right;\">\n",
              "      <th></th>\n",
              "      <th>GRE Score</th>\n",
              "      <th>TOEFL Score</th>\n",
              "      <th>University Rating</th>\n",
              "      <th>SOP</th>\n",
              "      <th>LOR</th>\n",
              "      <th>CGPA</th>\n",
              "      <th>Research</th>\n",
              "    </tr>\n",
              "  </thead>\n",
              "  <tbody>\n",
              "    <tr>\n",
              "      <th>0</th>\n",
              "      <td>337</td>\n",
              "      <td>118</td>\n",
              "      <td>4</td>\n",
              "      <td>4.5</td>\n",
              "      <td>4.5</td>\n",
              "      <td>9.65</td>\n",
              "      <td>1</td>\n",
              "    </tr>\n",
              "    <tr>\n",
              "      <th>1</th>\n",
              "      <td>324</td>\n",
              "      <td>107</td>\n",
              "      <td>4</td>\n",
              "      <td>4.0</td>\n",
              "      <td>4.5</td>\n",
              "      <td>8.87</td>\n",
              "      <td>1</td>\n",
              "    </tr>\n",
              "    <tr>\n",
              "      <th>2</th>\n",
              "      <td>316</td>\n",
              "      <td>104</td>\n",
              "      <td>3</td>\n",
              "      <td>3.0</td>\n",
              "      <td>3.5</td>\n",
              "      <td>8.00</td>\n",
              "      <td>1</td>\n",
              "    </tr>\n",
              "    <tr>\n",
              "      <th>3</th>\n",
              "      <td>322</td>\n",
              "      <td>110</td>\n",
              "      <td>3</td>\n",
              "      <td>3.5</td>\n",
              "      <td>2.5</td>\n",
              "      <td>8.67</td>\n",
              "      <td>1</td>\n",
              "    </tr>\n",
              "    <tr>\n",
              "      <th>4</th>\n",
              "      <td>314</td>\n",
              "      <td>103</td>\n",
              "      <td>2</td>\n",
              "      <td>2.0</td>\n",
              "      <td>3.0</td>\n",
              "      <td>8.21</td>\n",
              "      <td>0</td>\n",
              "    </tr>\n",
              "  </tbody>\n",
              "</table>\n",
              "</div>\n",
              "      <button class=\"colab-df-convert\" onclick=\"convertToInteractive('df-62a33908-1ff5-43e6-8fda-3b0066b10be7')\"\n",
              "              title=\"Convert this dataframe to an interactive table.\"\n",
              "              style=\"display:none;\">\n",
              "        \n",
              "  <svg xmlns=\"http://www.w3.org/2000/svg\" height=\"24px\"viewBox=\"0 0 24 24\"\n",
              "       width=\"24px\">\n",
              "    <path d=\"M0 0h24v24H0V0z\" fill=\"none\"/>\n",
              "    <path d=\"M18.56 5.44l.94 2.06.94-2.06 2.06-.94-2.06-.94-.94-2.06-.94 2.06-2.06.94zm-11 1L8.5 8.5l.94-2.06 2.06-.94-2.06-.94L8.5 2.5l-.94 2.06-2.06.94zm10 10l.94 2.06.94-2.06 2.06-.94-2.06-.94-.94-2.06-.94 2.06-2.06.94z\"/><path d=\"M17.41 7.96l-1.37-1.37c-.4-.4-.92-.59-1.43-.59-.52 0-1.04.2-1.43.59L10.3 9.45l-7.72 7.72c-.78.78-.78 2.05 0 2.83L4 21.41c.39.39.9.59 1.41.59.51 0 1.02-.2 1.41-.59l7.78-7.78 2.81-2.81c.8-.78.8-2.07 0-2.86zM5.41 20L4 18.59l7.72-7.72 1.47 1.35L5.41 20z\"/>\n",
              "  </svg>\n",
              "      </button>\n",
              "      \n",
              "  <style>\n",
              "    .colab-df-container {\n",
              "      display:flex;\n",
              "      flex-wrap:wrap;\n",
              "      gap: 12px;\n",
              "    }\n",
              "\n",
              "    .colab-df-convert {\n",
              "      background-color: #E8F0FE;\n",
              "      border: none;\n",
              "      border-radius: 50%;\n",
              "      cursor: pointer;\n",
              "      display: none;\n",
              "      fill: #1967D2;\n",
              "      height: 32px;\n",
              "      padding: 0 0 0 0;\n",
              "      width: 32px;\n",
              "    }\n",
              "\n",
              "    .colab-df-convert:hover {\n",
              "      background-color: #E2EBFA;\n",
              "      box-shadow: 0px 1px 2px rgba(60, 64, 67, 0.3), 0px 1px 3px 1px rgba(60, 64, 67, 0.15);\n",
              "      fill: #174EA6;\n",
              "    }\n",
              "\n",
              "    [theme=dark] .colab-df-convert {\n",
              "      background-color: #3B4455;\n",
              "      fill: #D2E3FC;\n",
              "    }\n",
              "\n",
              "    [theme=dark] .colab-df-convert:hover {\n",
              "      background-color: #434B5C;\n",
              "      box-shadow: 0px 1px 3px 1px rgba(0, 0, 0, 0.15);\n",
              "      filter: drop-shadow(0px 1px 2px rgba(0, 0, 0, 0.3));\n",
              "      fill: #FFFFFF;\n",
              "    }\n",
              "  </style>\n",
              "\n",
              "      <script>\n",
              "        const buttonEl =\n",
              "          document.querySelector('#df-62a33908-1ff5-43e6-8fda-3b0066b10be7 button.colab-df-convert');\n",
              "        buttonEl.style.display =\n",
              "          google.colab.kernel.accessAllowed ? 'block' : 'none';\n",
              "\n",
              "        async function convertToInteractive(key) {\n",
              "          const element = document.querySelector('#df-62a33908-1ff5-43e6-8fda-3b0066b10be7');\n",
              "          const dataTable =\n",
              "            await google.colab.kernel.invokeFunction('convertToInteractive',\n",
              "                                                     [key], {});\n",
              "          if (!dataTable) return;\n",
              "\n",
              "          const docLinkHtml = 'Like what you see? Visit the ' +\n",
              "            '<a target=\"_blank\" href=https://colab.research.google.com/notebooks/data_table.ipynb>data table notebook</a>'\n",
              "            + ' to learn more about interactive tables.';\n",
              "          element.innerHTML = '';\n",
              "          dataTable['output_type'] = 'display_data';\n",
              "          await google.colab.output.renderOutput(dataTable, element);\n",
              "          const docLink = document.createElement('div');\n",
              "          docLink.innerHTML = docLinkHtml;\n",
              "          element.appendChild(docLink);\n",
              "        }\n",
              "      </script>\n",
              "    </div>\n",
              "  </div>\n",
              "  "
            ]
          },
          "metadata": {},
          "execution_count": 28
        }
      ]
    },
    {
      "cell_type": "code",
      "source": [
        "y = dataset['Chance of Admit']\n",
        "y"
      ],
      "metadata": {
        "colab": {
          "base_uri": "https://localhost:8080/"
        },
        "id": "lzZujj0c5OBC",
        "outputId": "042a4a77-105f-4fbc-d829-4eefbc62fa61"
      },
      "execution_count": 29,
      "outputs": [
        {
          "output_type": "execute_result",
          "data": {
            "text/plain": [
              "0      0.92\n",
              "1      0.76\n",
              "2      0.72\n",
              "3      0.80\n",
              "4      0.65\n",
              "       ... \n",
              "495    0.87\n",
              "496    0.96\n",
              "497    0.93\n",
              "498    0.73\n",
              "499    0.84\n",
              "Name: Chance of Admit, Length: 500, dtype: float64"
            ]
          },
          "metadata": {},
          "execution_count": 29
        }
      ]
    },
    {
      "cell_type": "markdown",
      "source": [
        "## Train Test Split"
      ],
      "metadata": {
        "id": "-LvmMFUvMMi5"
      }
    },
    {
      "cell_type": "code",
      "source": [
        "x_train, x_test, y_train, y_test = train_test_split(x,\n",
        "                                                    y,\n",
        "                                                    test_size=0.2,\n",
        "                                                    random_state=42)"
      ],
      "metadata": {
        "id": "DlBFfrQI6nOr"
      },
      "execution_count": 30,
      "outputs": []
    },
    {
      "cell_type": "markdown",
      "source": [
        "## Define the Model"
      ],
      "metadata": {
        "id": "jkyquan_MQ-A"
      }
    },
    {
      "cell_type": "code",
      "source": [
        "mlr = LinearRegression()\n",
        "mlr.fit(x_train, y_train)"
      ],
      "metadata": {
        "colab": {
          "base_uri": "https://localhost:8080/"
        },
        "id": "jSmQ4euv6-oD",
        "outputId": "9d80287c-b5b4-47e3-ad48-72e834b66ba1"
      },
      "execution_count": 31,
      "outputs": [
        {
          "output_type": "execute_result",
          "data": {
            "text/plain": [
              "LinearRegression()"
            ]
          },
          "metadata": {},
          "execution_count": 31
        }
      ]
    },
    {
      "cell_type": "markdown",
      "source": [
        "## Print intercept and slope value of the model"
      ],
      "metadata": {
        "id": "qBdHiD-qMapn"
      }
    },
    {
      "cell_type": "code",
      "source": [
        "print(mlr.intercept_)\n",
        "print(mlr.coef_)"
      ],
      "metadata": {
        "colab": {
          "base_uri": "https://localhost:8080/"
        },
        "id": "6043cQxH7Ho6",
        "outputId": "73c4f243-e92d-4afe-8d42-e47a75aae38e"
      },
      "execution_count": 32,
      "outputs": [
        {
          "output_type": "stream",
          "name": "stdout",
          "text": [
            "-1.421447071901646\n",
            "[0.00243444 0.00299587 0.0025688  0.00181369 0.01723798 0.11252708\n",
            " 0.02402679]\n"
          ]
        }
      ]
    },
    {
      "cell_type": "code",
      "source": [
        "pd.DataFrame({'Variables': x.columns.values,\n",
        "              'Coefficient': mlr.coef_})"
      ],
      "metadata": {
        "colab": {
          "base_uri": "https://localhost:8080/",
          "height": 269
        },
        "id": "PHWUkbpi7NU6",
        "outputId": "d5f7e873-a7f7-4f2a-ed0a-59e968f4e161"
      },
      "execution_count": 33,
      "outputs": [
        {
          "output_type": "execute_result",
          "data": {
            "text/plain": [
              "           Variables  Coefficient\n",
              "0          GRE Score     0.002434\n",
              "1        TOEFL Score     0.002996\n",
              "2  University Rating     0.002569\n",
              "3                SOP     0.001814\n",
              "4               LOR      0.017238\n",
              "5               CGPA     0.112527\n",
              "6           Research     0.024027"
            ],
            "text/html": [
              "\n",
              "  <div id=\"df-cd7eaf09-bb6f-4e93-ac01-b3a1f8705a80\">\n",
              "    <div class=\"colab-df-container\">\n",
              "      <div>\n",
              "<style scoped>\n",
              "    .dataframe tbody tr th:only-of-type {\n",
              "        vertical-align: middle;\n",
              "    }\n",
              "\n",
              "    .dataframe tbody tr th {\n",
              "        vertical-align: top;\n",
              "    }\n",
              "\n",
              "    .dataframe thead th {\n",
              "        text-align: right;\n",
              "    }\n",
              "</style>\n",
              "<table border=\"1\" class=\"dataframe\">\n",
              "  <thead>\n",
              "    <tr style=\"text-align: right;\">\n",
              "      <th></th>\n",
              "      <th>Variables</th>\n",
              "      <th>Coefficient</th>\n",
              "    </tr>\n",
              "  </thead>\n",
              "  <tbody>\n",
              "    <tr>\n",
              "      <th>0</th>\n",
              "      <td>GRE Score</td>\n",
              "      <td>0.002434</td>\n",
              "    </tr>\n",
              "    <tr>\n",
              "      <th>1</th>\n",
              "      <td>TOEFL Score</td>\n",
              "      <td>0.002996</td>\n",
              "    </tr>\n",
              "    <tr>\n",
              "      <th>2</th>\n",
              "      <td>University Rating</td>\n",
              "      <td>0.002569</td>\n",
              "    </tr>\n",
              "    <tr>\n",
              "      <th>3</th>\n",
              "      <td>SOP</td>\n",
              "      <td>0.001814</td>\n",
              "    </tr>\n",
              "    <tr>\n",
              "      <th>4</th>\n",
              "      <td>LOR</td>\n",
              "      <td>0.017238</td>\n",
              "    </tr>\n",
              "    <tr>\n",
              "      <th>5</th>\n",
              "      <td>CGPA</td>\n",
              "      <td>0.112527</td>\n",
              "    </tr>\n",
              "    <tr>\n",
              "      <th>6</th>\n",
              "      <td>Research</td>\n",
              "      <td>0.024027</td>\n",
              "    </tr>\n",
              "  </tbody>\n",
              "</table>\n",
              "</div>\n",
              "      <button class=\"colab-df-convert\" onclick=\"convertToInteractive('df-cd7eaf09-bb6f-4e93-ac01-b3a1f8705a80')\"\n",
              "              title=\"Convert this dataframe to an interactive table.\"\n",
              "              style=\"display:none;\">\n",
              "        \n",
              "  <svg xmlns=\"http://www.w3.org/2000/svg\" height=\"24px\"viewBox=\"0 0 24 24\"\n",
              "       width=\"24px\">\n",
              "    <path d=\"M0 0h24v24H0V0z\" fill=\"none\"/>\n",
              "    <path d=\"M18.56 5.44l.94 2.06.94-2.06 2.06-.94-2.06-.94-.94-2.06-.94 2.06-2.06.94zm-11 1L8.5 8.5l.94-2.06 2.06-.94-2.06-.94L8.5 2.5l-.94 2.06-2.06.94zm10 10l.94 2.06.94-2.06 2.06-.94-2.06-.94-.94-2.06-.94 2.06-2.06.94z\"/><path d=\"M17.41 7.96l-1.37-1.37c-.4-.4-.92-.59-1.43-.59-.52 0-1.04.2-1.43.59L10.3 9.45l-7.72 7.72c-.78.78-.78 2.05 0 2.83L4 21.41c.39.39.9.59 1.41.59.51 0 1.02-.2 1.41-.59l7.78-7.78 2.81-2.81c.8-.78.8-2.07 0-2.86zM5.41 20L4 18.59l7.72-7.72 1.47 1.35L5.41 20z\"/>\n",
              "  </svg>\n",
              "      </button>\n",
              "      \n",
              "  <style>\n",
              "    .colab-df-container {\n",
              "      display:flex;\n",
              "      flex-wrap:wrap;\n",
              "      gap: 12px;\n",
              "    }\n",
              "\n",
              "    .colab-df-convert {\n",
              "      background-color: #E8F0FE;\n",
              "      border: none;\n",
              "      border-radius: 50%;\n",
              "      cursor: pointer;\n",
              "      display: none;\n",
              "      fill: #1967D2;\n",
              "      height: 32px;\n",
              "      padding: 0 0 0 0;\n",
              "      width: 32px;\n",
              "    }\n",
              "\n",
              "    .colab-df-convert:hover {\n",
              "      background-color: #E2EBFA;\n",
              "      box-shadow: 0px 1px 2px rgba(60, 64, 67, 0.3), 0px 1px 3px 1px rgba(60, 64, 67, 0.15);\n",
              "      fill: #174EA6;\n",
              "    }\n",
              "\n",
              "    [theme=dark] .colab-df-convert {\n",
              "      background-color: #3B4455;\n",
              "      fill: #D2E3FC;\n",
              "    }\n",
              "\n",
              "    [theme=dark] .colab-df-convert:hover {\n",
              "      background-color: #434B5C;\n",
              "      box-shadow: 0px 1px 3px 1px rgba(0, 0, 0, 0.15);\n",
              "      filter: drop-shadow(0px 1px 2px rgba(0, 0, 0, 0.3));\n",
              "      fill: #FFFFFF;\n",
              "    }\n",
              "  </style>\n",
              "\n",
              "      <script>\n",
              "        const buttonEl =\n",
              "          document.querySelector('#df-cd7eaf09-bb6f-4e93-ac01-b3a1f8705a80 button.colab-df-convert');\n",
              "        buttonEl.style.display =\n",
              "          google.colab.kernel.accessAllowed ? 'block' : 'none';\n",
              "\n",
              "        async function convertToInteractive(key) {\n",
              "          const element = document.querySelector('#df-cd7eaf09-bb6f-4e93-ac01-b3a1f8705a80');\n",
              "          const dataTable =\n",
              "            await google.colab.kernel.invokeFunction('convertToInteractive',\n",
              "                                                     [key], {});\n",
              "          if (!dataTable) return;\n",
              "\n",
              "          const docLinkHtml = 'Like what you see? Visit the ' +\n",
              "            '<a target=\"_blank\" href=https://colab.research.google.com/notebooks/data_table.ipynb>data table notebook</a>'\n",
              "            + ' to learn more about interactive tables.';\n",
              "          element.innerHTML = '';\n",
              "          dataTable['output_type'] = 'display_data';\n",
              "          await google.colab.output.renderOutput(dataTable, element);\n",
              "          const docLink = document.createElement('div');\n",
              "          docLink.innerHTML = docLinkHtml;\n",
              "          element.appendChild(docLink);\n",
              "        }\n",
              "      </script>\n",
              "    </div>\n",
              "  </div>\n",
              "  "
            ]
          },
          "metadata": {},
          "execution_count": 33
        }
      ]
    },
    {
      "cell_type": "markdown",
      "source": [
        "## Prediction"
      ],
      "metadata": {
        "id": "m666gpnFMfnc"
      }
    },
    {
      "cell_type": "code",
      "source": [
        "y_pred = mlr.predict(x_test).flatten()\n",
        "y_pred"
      ],
      "metadata": {
        "colab": {
          "base_uri": "https://localhost:8080/"
        },
        "id": "McSAkc_z8AKh",
        "outputId": "5b280d7d-0588-49c7-92e2-140450abd485"
      },
      "execution_count": 34,
      "outputs": [
        {
          "output_type": "execute_result",
          "data": {
            "text/plain": [
              "array([0.91457473, 0.79518127, 0.57265986, 0.70736968, 0.81588282,\n",
              "       0.86206561, 0.47459746, 0.64850923, 0.82378728, 0.80741498,\n",
              "       0.72193204, 0.72589118, 0.65632227, 0.93677168, 0.8241518 ,\n",
              "       0.50979177, 0.83931942, 0.59727295, 0.53339576, 0.57155958,\n",
              "       0.66548168, 0.55305833, 0.72232308, 0.79506004, 0.78027648,\n",
              "       0.60248654, 0.94840363, 0.84741471, 0.62777011, 0.74343096,\n",
              "       0.55533035, 0.73004034, 0.54474225, 0.86116288, 0.65713016,\n",
              "       0.7371816 , 0.55423839, 0.95718977, 0.64364267, 0.71057279,\n",
              "       0.97036982, 0.57495143, 0.67075391, 0.85830422, 0.94112903,\n",
              "       0.57793762, 0.9583926 , 0.83902765, 0.79591651, 0.92570648,\n",
              "       0.88805969, 0.56366238, 0.70359711, 0.52658929, 0.9536427 ,\n",
              "       0.59746814, 0.95600396, 0.73916386, 0.66256982, 0.5012903 ,\n",
              "       0.62950759, 0.68031188, 0.59896721, 0.59203806, 0.44085868,\n",
              "       0.58866369, 0.8667547 , 0.89783006, 0.65831807, 0.70667392,\n",
              "       0.6176818 , 0.78587721, 0.69152566, 0.56271019, 0.5542953 ,\n",
              "       0.65084583, 0.84627224, 0.86373777, 0.53729574, 0.63142139,\n",
              "       0.76958036, 0.84812916, 0.61693172, 0.8471071 , 0.73411583,\n",
              "       0.6668525 , 0.60444455, 0.73875671, 0.78899999, 0.66320147,\n",
              "       0.7428225 , 0.90802002, 0.91576583, 0.65056489, 0.77694407,\n",
              "       0.43563138, 0.68664259, 0.78598826, 0.73469446, 0.64865736])"
            ]
          },
          "metadata": {},
          "execution_count": 34
        }
      ]
    },
    {
      "cell_type": "code",
      "source": [
        "line = pd.DataFrame({'Actual':y_test.values.flatten(),\n",
        "                     'Prediction':y_pred})\n",
        "line.plot(kind='line', figsize=(15,3))"
      ],
      "metadata": {
        "colab": {
          "base_uri": "https://localhost:8080/",
          "height": 202
        },
        "id": "M22gjm8o7Y_z",
        "outputId": "e9a37cd8-b985-4306-c953-7dc657cfbd14"
      },
      "execution_count": 35,
      "outputs": [
        {
          "output_type": "execute_result",
          "data": {
            "text/plain": [
              "<matplotlib.axes._subplots.AxesSubplot at 0x7fe852073190>"
            ]
          },
          "metadata": {},
          "execution_count": 35
        },
        {
          "output_type": "display_data",
          "data": {
            "text/plain": [
              "<Figure size 1080x216 with 1 Axes>"
            ],
            "image/png": "[encoded data removed]"
          },
          "metadata": {
            "needs_background": "light"
          }
        }
      ]
    },
    {
      "cell_type": "markdown",
      "source": [
        "Based on the visualization of the actual value and the predicted value, it can be concluded: the difference between the actual and predicted values ​​is not too much different. \n",
        "\n",
        "This is because our model uses >1 independent variables -> make the model able to predict the results more accurately."
      ],
      "metadata": {
        "id": "4bEWOvXjDVFZ"
      }
    },
    {
      "cell_type": "markdown",
      "source": [
        "## Evaluation Metrics"
      ],
      "metadata": {
        "id": "KKfXjJBQMikw"
      }
    },
    {
      "cell_type": "code",
      "source": [
        "mae = metrics.mean_absolute_error(y_test, y_pred)\n",
        "mse = metrics.mean_squared_error(y_test, y_pred)\n",
        "rmse = np.sqrt(metrics.mean_squared_error(y_test, y_pred))\n",
        "r2_score = metrics.r2_score(y_test, y_pred)\n",
        "\n",
        "print('Mean Absolute Error (MAE) :', mae)\n",
        "print('Mean Squared Error (MSE) :', mse)\n",
        "print('Root Mean Squared Error (RMSE) :', rmse)\n",
        "print('R-Squared (R2_Score) :', r2_score)"
      ],
      "metadata": {
        "colab": {
          "base_uri": "https://localhost:8080/"
        },
        "id": "JRU7vwB67uYb",
        "outputId": "c0129e26-acb3-45ad-cb1a-5320b569e041"
      },
      "execution_count": 36,
      "outputs": [
        {
          "output_type": "stream",
          "name": "stdout",
          "text": [
            "Mean Absolute Error (MAE) : 0.04272265427705367\n",
            "Mean Squared Error (MSE) : 0.0037046553987884084\n",
            "Root Mean Squared Error (RMSE) : 0.0608658804157831\n",
            "R-Squared (R2_Score) : 0.8188432567829629\n"
          ]
        }
      ]
    }
  ]
}