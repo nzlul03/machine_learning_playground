{
  "nbformat": 4,
  "nbformat_minor": 0,
  "metadata": {
    "colab": {
      "provenance": [],
      "authorship_tag": "ABX9TyPBFeyb3ZDN2jsJ+SRJrOYn"
    },
    "kernelspec": {
      "name": "python3",
      "display_name": "Python 3"
    },
    "language_info": {
      "name": "python"
    },
    "accelerator": "GPU",
    "gpuClass": "standard"
  },
  "cells": [
    {
      "cell_type": "markdown",
      "source": [
        "# Data Normalization Min-Max"
      ],
      "metadata": {
        "id": "0NOgGkyocyaG"
      }
    },
    {
      "cell_type": "code",
      "execution_count": 1,
      "metadata": {
        "id": "t9ok455PcocW"
      },
      "outputs": [],
      "source": [
        "import pandas as pd\n",
        "from sklearn.preprocessing import MinMaxScaler"
      ]
    },
    {
      "cell_type": "code",
      "source": [
        "data = pd.read_csv('https://raw.githubusercontent.com/diazzzz/Buku-Machine-Learning/main/Data%20Normalization%20and%20Discretization/datasetgaji2.csv')\n",
        "data"
      ],
      "metadata": {
        "colab": {
          "base_uri": "https://localhost:8080/",
          "height": 237
        },
        "id": "LndQrjDsc8-q",
        "outputId": "5050388d-6fdf-41b5-aac8-34dab01ecb3a"
      },
      "execution_count": 2,
      "outputs": [
        {
          "output_type": "execute_result",
          "data": {
            "text/plain": [
              "             Nama Status Rumah  Gaji Orang Tua  Umur\n",
              "0      aldi taher      Kontrak         2100000    24\n",
              "1          kekeyi        Milik         4000000    23\n",
              "2   rangga sasana      Kontrak         1400000    21\n",
              "3  vicky prasetyo      Kontrak          700000    28\n",
              "4            Zuko        Milik          650000    27\n",
              "5           dyrga      Kontrak          450000    22"
            ],
            "text/html": [
              "\n",
              "  <div id=\"df-df118052-8a3a-49bf-bfba-40aeeb95c333\">\n",
              "    <div class=\"colab-df-container\">\n",
              "      <div>\n",
              "<style scoped>\n",
              "    .dataframe tbody tr th:only-of-type {\n",
              "        vertical-align: middle;\n",
              "    }\n",
              "\n",
              "    .dataframe tbody tr th {\n",
              "        vertical-align: top;\n",
              "    }\n",
              "\n",
              "    .dataframe thead th {\n",
              "        text-align: right;\n",
              "    }\n",
              "</style>\n",
              "<table border=\"1\" class=\"dataframe\">\n",
              "  <thead>\n",
              "    <tr style=\"text-align: right;\">\n",
              "      <th></th>\n",
              "      <th>Nama</th>\n",
              "      <th>Status Rumah</th>\n",
              "      <th>Gaji Orang Tua</th>\n",
              "      <th>Umur</th>\n",
              "    </tr>\n",
              "  </thead>\n",
              "  <tbody>\n",
              "    <tr>\n",
              "      <th>0</th>\n",
              "      <td>aldi taher</td>\n",
              "      <td>Kontrak</td>\n",
              "      <td>2100000</td>\n",
              "      <td>24</td>\n",
              "    </tr>\n",
              "    <tr>\n",
              "      <th>1</th>\n",
              "      <td>kekeyi</td>\n",
              "      <td>Milik</td>\n",
              "      <td>4000000</td>\n",
              "      <td>23</td>\n",
              "    </tr>\n",
              "    <tr>\n",
              "      <th>2</th>\n",
              "      <td>rangga sasana</td>\n",
              "      <td>Kontrak</td>\n",
              "      <td>1400000</td>\n",
              "      <td>21</td>\n",
              "    </tr>\n",
              "    <tr>\n",
              "      <th>3</th>\n",
              "      <td>vicky prasetyo</td>\n",
              "      <td>Kontrak</td>\n",
              "      <td>700000</td>\n",
              "      <td>28</td>\n",
              "    </tr>\n",
              "    <tr>\n",
              "      <th>4</th>\n",
              "      <td>Zuko</td>\n",
              "      <td>Milik</td>\n",
              "      <td>650000</td>\n",
              "      <td>27</td>\n",
              "    </tr>\n",
              "    <tr>\n",
              "      <th>5</th>\n",
              "      <td>dyrga</td>\n",
              "      <td>Kontrak</td>\n",
              "      <td>450000</td>\n",
              "      <td>22</td>\n",
              "    </tr>\n",
              "  </tbody>\n",
              "</table>\n",
              "</div>\n",
              "      <button class=\"colab-df-convert\" onclick=\"convertToInteractive('df-df118052-8a3a-49bf-bfba-40aeeb95c333')\"\n",
              "              title=\"Convert this dataframe to an interactive table.\"\n",
              "              style=\"display:none;\">\n",
              "        \n",
              "  <svg xmlns=\"http://www.w3.org/2000/svg\" height=\"24px\"viewBox=\"0 0 24 24\"\n",
              "       width=\"24px\">\n",
              "    <path d=\"M0 0h24v24H0V0z\" fill=\"none\"/>\n",
              "    <path d=\"M18.56 5.44l.94 2.06.94-2.06 2.06-.94-2.06-.94-.94-2.06-.94 2.06-2.06.94zm-11 1L8.5 8.5l.94-2.06 2.06-.94-2.06-.94L8.5 2.5l-.94 2.06-2.06.94zm10 10l.94 2.06.94-2.06 2.06-.94-2.06-.94-.94-2.06-.94 2.06-2.06.94z\"/><path d=\"M17.41 7.96l-1.37-1.37c-.4-.4-.92-.59-1.43-.59-.52 0-1.04.2-1.43.59L10.3 9.45l-7.72 7.72c-.78.78-.78 2.05 0 2.83L4 21.41c.39.39.9.59 1.41.59.51 0 1.02-.2 1.41-.59l7.78-7.78 2.81-2.81c.8-.78.8-2.07 0-2.86zM5.41 20L4 18.59l7.72-7.72 1.47 1.35L5.41 20z\"/>\n",
              "  </svg>\n",
              "      </button>\n",
              "      \n",
              "  <style>\n",
              "    .colab-df-container {\n",
              "      display:flex;\n",
              "      flex-wrap:wrap;\n",
              "      gap: 12px;\n",
              "    }\n",
              "\n",
              "    .colab-df-convert {\n",
              "      background-color: #E8F0FE;\n",
              "      border: none;\n",
              "      border-radius: 50%;\n",
              "      cursor: pointer;\n",
              "      display: none;\n",
              "      fill: #1967D2;\n",
              "      height: 32px;\n",
              "      padding: 0 0 0 0;\n",
              "      width: 32px;\n",
              "    }\n",
              "\n",
              "    .colab-df-convert:hover {\n",
              "      background-color: #E2EBFA;\n",
              "      box-shadow: 0px 1px 2px rgba(60, 64, 67, 0.3), 0px 1px 3px 1px rgba(60, 64, 67, 0.15);\n",
              "      fill: #174EA6;\n",
              "    }\n",
              "\n",
              "    [theme=dark] .colab-df-convert {\n",
              "      background-color: #3B4455;\n",
              "      fill: #D2E3FC;\n",
              "    }\n",
              "\n",
              "    [theme=dark] .colab-df-convert:hover {\n",
              "      background-color: #434B5C;\n",
              "      box-shadow: 0px 1px 3px 1px rgba(0, 0, 0, 0.15);\n",
              "      filter: drop-shadow(0px 1px 2px rgba(0, 0, 0, 0.3));\n",
              "      fill: #FFFFFF;\n",
              "    }\n",
              "  </style>\n",
              "\n",
              "      <script>\n",
              "        const buttonEl =\n",
              "          document.querySelector('#df-df118052-8a3a-49bf-bfba-40aeeb95c333 button.colab-df-convert');\n",
              "        buttonEl.style.display =\n",
              "          google.colab.kernel.accessAllowed ? 'block' : 'none';\n",
              "\n",
              "        async function convertToInteractive(key) {\n",
              "          const element = document.querySelector('#df-df118052-8a3a-49bf-bfba-40aeeb95c333');\n",
              "          const dataTable =\n",
              "            await google.colab.kernel.invokeFunction('convertToInteractive',\n",
              "                                                     [key], {});\n",
              "          if (!dataTable) return;\n",
              "\n",
              "          const docLinkHtml = 'Like what you see? Visit the ' +\n",
              "            '<a target=\"_blank\" href=https://colab.research.google.com/notebooks/data_table.ipynb>data table notebook</a>'\n",
              "            + ' to learn more about interactive tables.';\n",
              "          element.innerHTML = '';\n",
              "          dataTable['output_type'] = 'display_data';\n",
              "          await google.colab.output.renderOutput(dataTable, element);\n",
              "          const docLink = document.createElement('div');\n",
              "          docLink.innerHTML = docLinkHtml;\n",
              "          element.appendChild(docLink);\n",
              "        }\n",
              "      </script>\n",
              "    </div>\n",
              "  </div>\n",
              "  "
            ]
          },
          "metadata": {},
          "execution_count": 2
        }
      ]
    },
    {
      "cell_type": "code",
      "source": [
        "scaler = MinMaxScaler()\n",
        "scaled = scaler.fit_transform(data[['Gaji Orang Tua', 'Umur']])\n",
        "print(scaled)"
      ],
      "metadata": {
        "colab": {
          "base_uri": "https://localhost:8080/"
        },
        "id": "WARJMotEdJLH",
        "outputId": "3a0349f7-da30-4198-d9f8-39fc650544f6"
      },
      "execution_count": 4,
      "outputs": [
        {
          "output_type": "stream",
          "name": "stdout",
          "text": [
            "[[0.46478873 0.42857143]\n",
            " [1.         0.28571429]\n",
            " [0.26760563 0.        ]\n",
            " [0.07042254 1.        ]\n",
            " [0.05633803 0.85714286]\n",
            " [0.         0.14285714]]\n"
          ]
        }
      ]
    },
    {
      "cell_type": "markdown",
      "source": [
        "#Standardization (Z-Score Normalization)"
      ],
      "metadata": {
        "id": "_s3IX04Ogbxq"
      }
    },
    {
      "cell_type": "code",
      "source": [
        "from sklearn.preprocessing import StandardScaler"
      ],
      "metadata": {
        "id": "0fEJO8SUdVIJ"
      },
      "execution_count": 5,
      "outputs": []
    },
    {
      "cell_type": "code",
      "source": [
        "scaler = StandardScaler()\n",
        "scaled = scaler.fit_transform(data[['Gaji Orang Tua', 'Umur']])\n",
        "print(scaled)"
      ],
      "metadata": {
        "colab": {
          "base_uri": "https://localhost:8080/"
        },
        "id": "RctkKwwagoq5",
        "outputId": "159e782d-ab6b-4333-d295-dd32c32c0727"
      },
      "execution_count": 7,
      "outputs": [
        {
          "output_type": "stream",
          "name": "stdout",
          "text": [
            "[[ 0.44733685 -0.06551218]\n",
            " [ 1.99268231 -0.45858525]\n",
            " [-0.12200096 -1.24473139]\n",
            " [-0.69133876  1.5067801 ]\n",
            " [-0.73200575  1.11370703]\n",
            " [-0.89467369 -0.85165832]]\n"
          ]
        }
      ]
    },
    {
      "cell_type": "markdown",
      "source": [
        "#Binning atau Discretization"
      ],
      "metadata": {
        "id": "95lm_yCcjqD4"
      }
    },
    {
      "cell_type": "markdown",
      "source": [
        "##1. Binning Manual"
      ],
      "metadata": {
        "id": "uUtsMr_Ejsqj"
      }
    },
    {
      "cell_type": "code",
      "source": [
        "from sklearn.pipeline import Pipeline\n",
        "import numpy as np"
      ],
      "metadata": {
        "id": "t0LW_i9MgrDB"
      },
      "execution_count": 8,
      "outputs": []
    },
    {
      "cell_type": "code",
      "source": [
        "data = pd.read_csv('https://raw.githubusercontent.com/diazzzz/Buku-Machine-Learning/main/Data%20Normalization%20and%20Discretization/datasetgaji.csv')\n",
        "data.head()"
      ],
      "metadata": {
        "colab": {
          "base_uri": "https://localhost:8080/",
          "height": 206
        },
        "id": "sw9I__SSj2US",
        "outputId": "396db97f-2083-4139-808e-06df76775040"
      },
      "execution_count": 9,
      "outputs": [
        {
          "output_type": "execute_result",
          "data": {
            "text/plain": [
              "             Nama Status Rumah  Gaji Orang Tua  Keterangan\n",
              "0      aldi taher      Kontrak         2100000         NaN\n",
              "1          kekeyi        Milik         4000000         NaN\n",
              "2   rangga sasana      Kontrak         1400000         NaN\n",
              "3  vicky prasetyo      Kontrak          700000         NaN\n",
              "4            Zuko        Milik          650000         NaN"
            ],
            "text/html": [
              "\n",
              "  <div id=\"df-e520addc-6de4-47bc-8baa-c223eb363547\">\n",
              "    <div class=\"colab-df-container\">\n",
              "      <div>\n",
              "<style scoped>\n",
              "    .dataframe tbody tr th:only-of-type {\n",
              "        vertical-align: middle;\n",
              "    }\n",
              "\n",
              "    .dataframe tbody tr th {\n",
              "        vertical-align: top;\n",
              "    }\n",
              "\n",
              "    .dataframe thead th {\n",
              "        text-align: right;\n",
              "    }\n",
              "</style>\n",
              "<table border=\"1\" class=\"dataframe\">\n",
              "  <thead>\n",
              "    <tr style=\"text-align: right;\">\n",
              "      <th></th>\n",
              "      <th>Nama</th>\n",
              "      <th>Status Rumah</th>\n",
              "      <th>Gaji Orang Tua</th>\n",
              "      <th>Keterangan</th>\n",
              "    </tr>\n",
              "  </thead>\n",
              "  <tbody>\n",
              "    <tr>\n",
              "      <th>0</th>\n",
              "      <td>aldi taher</td>\n",
              "      <td>Kontrak</td>\n",
              "      <td>2100000</td>\n",
              "      <td>NaN</td>\n",
              "    </tr>\n",
              "    <tr>\n",
              "      <th>1</th>\n",
              "      <td>kekeyi</td>\n",
              "      <td>Milik</td>\n",
              "      <td>4000000</td>\n",
              "      <td>NaN</td>\n",
              "    </tr>\n",
              "    <tr>\n",
              "      <th>2</th>\n",
              "      <td>rangga sasana</td>\n",
              "      <td>Kontrak</td>\n",
              "      <td>1400000</td>\n",
              "      <td>NaN</td>\n",
              "    </tr>\n",
              "    <tr>\n",
              "      <th>3</th>\n",
              "      <td>vicky prasetyo</td>\n",
              "      <td>Kontrak</td>\n",
              "      <td>700000</td>\n",
              "      <td>NaN</td>\n",
              "    </tr>\n",
              "    <tr>\n",
              "      <th>4</th>\n",
              "      <td>Zuko</td>\n",
              "      <td>Milik</td>\n",
              "      <td>650000</td>\n",
              "      <td>NaN</td>\n",
              "    </tr>\n",
              "  </tbody>\n",
              "</table>\n",
              "</div>\n",
              "      <button class=\"colab-df-convert\" onclick=\"convertToInteractive('df-e520addc-6de4-47bc-8baa-c223eb363547')\"\n",
              "              title=\"Convert this dataframe to an interactive table.\"\n",
              "              style=\"display:none;\">\n",
              "        \n",
              "  <svg xmlns=\"http://www.w3.org/2000/svg\" height=\"24px\"viewBox=\"0 0 24 24\"\n",
              "       width=\"24px\">\n",
              "    <path d=\"M0 0h24v24H0V0z\" fill=\"none\"/>\n",
              "    <path d=\"M18.56 5.44l.94 2.06.94-2.06 2.06-.94-2.06-.94-.94-2.06-.94 2.06-2.06.94zm-11 1L8.5 8.5l.94-2.06 2.06-.94-2.06-.94L8.5 2.5l-.94 2.06-2.06.94zm10 10l.94 2.06.94-2.06 2.06-.94-2.06-.94-.94-2.06-.94 2.06-2.06.94z\"/><path d=\"M17.41 7.96l-1.37-1.37c-.4-.4-.92-.59-1.43-.59-.52 0-1.04.2-1.43.59L10.3 9.45l-7.72 7.72c-.78.78-.78 2.05 0 2.83L4 21.41c.39.39.9.59 1.41.59.51 0 1.02-.2 1.41-.59l7.78-7.78 2.81-2.81c.8-.78.8-2.07 0-2.86zM5.41 20L4 18.59l7.72-7.72 1.47 1.35L5.41 20z\"/>\n",
              "  </svg>\n",
              "      </button>\n",
              "      \n",
              "  <style>\n",
              "    .colab-df-container {\n",
              "      display:flex;\n",
              "      flex-wrap:wrap;\n",
              "      gap: 12px;\n",
              "    }\n",
              "\n",
              "    .colab-df-convert {\n",
              "      background-color: #E8F0FE;\n",
              "      border: none;\n",
              "      border-radius: 50%;\n",
              "      cursor: pointer;\n",
              "      display: none;\n",
              "      fill: #1967D2;\n",
              "      height: 32px;\n",
              "      padding: 0 0 0 0;\n",
              "      width: 32px;\n",
              "    }\n",
              "\n",
              "    .colab-df-convert:hover {\n",
              "      background-color: #E2EBFA;\n",
              "      box-shadow: 0px 1px 2px rgba(60, 64, 67, 0.3), 0px 1px 3px 1px rgba(60, 64, 67, 0.15);\n",
              "      fill: #174EA6;\n",
              "    }\n",
              "\n",
              "    [theme=dark] .colab-df-convert {\n",
              "      background-color: #3B4455;\n",
              "      fill: #D2E3FC;\n",
              "    }\n",
              "\n",
              "    [theme=dark] .colab-df-convert:hover {\n",
              "      background-color: #434B5C;\n",
              "      box-shadow: 0px 1px 3px 1px rgba(0, 0, 0, 0.15);\n",
              "      filter: drop-shadow(0px 1px 2px rgba(0, 0, 0, 0.3));\n",
              "      fill: #FFFFFF;\n",
              "    }\n",
              "  </style>\n",
              "\n",
              "      <script>\n",
              "        const buttonEl =\n",
              "          document.querySelector('#df-e520addc-6de4-47bc-8baa-c223eb363547 button.colab-df-convert');\n",
              "        buttonEl.style.display =\n",
              "          google.colab.kernel.accessAllowed ? 'block' : 'none';\n",
              "\n",
              "        async function convertToInteractive(key) {\n",
              "          const element = document.querySelector('#df-e520addc-6de4-47bc-8baa-c223eb363547');\n",
              "          const dataTable =\n",
              "            await google.colab.kernel.invokeFunction('convertToInteractive',\n",
              "                                                     [key], {});\n",
              "          if (!dataTable) return;\n",
              "\n",
              "          const docLinkHtml = 'Like what you see? Visit the ' +\n",
              "            '<a target=\"_blank\" href=https://colab.research.google.com/notebooks/data_table.ipynb>data table notebook</a>'\n",
              "            + ' to learn more about interactive tables.';\n",
              "          element.innerHTML = '';\n",
              "          dataTable['output_type'] = 'display_data';\n",
              "          await google.colab.output.renderOutput(dataTable, element);\n",
              "          const docLink = document.createElement('div');\n",
              "          docLink.innerHTML = docLinkHtml;\n",
              "          element.appendChild(docLink);\n",
              "        }\n",
              "      </script>\n",
              "    </div>\n",
              "  </div>\n",
              "  "
            ]
          },
          "metadata": {},
          "execution_count": 9
        }
      ]
    },
    {
      "cell_type": "code",
      "source": [
        "batas_bin = [0, 1400000, 4000000]\n",
        "kategori = ['Kecil', 'Besar']\n",
        "data['gaji_binned_1'] = pd.cut(data['Gaji Orang Tua'],\n",
        "                               bins=batas_bin,\n",
        "                               labels=kategori)\n",
        "print(data)"
      ],
      "metadata": {
        "colab": {
          "base_uri": "https://localhost:8080/"
        },
        "id": "Z0DarQ5zkBKB",
        "outputId": "faabc45e-ded9-4d11-f632-996ee0c79a07"
      },
      "execution_count": 12,
      "outputs": [
        {
          "output_type": "stream",
          "name": "stdout",
          "text": [
            "             Nama Status Rumah  Gaji Orang Tua  Keterangan gaji_binned_1\n",
            "0      aldi taher      Kontrak         2100000         NaN         Besar\n",
            "1          kekeyi        Milik         4000000         NaN         Besar\n",
            "2   rangga sasana      Kontrak         1400000         NaN         Kecil\n",
            "3  vicky prasetyo      Kontrak          700000         NaN         Kecil\n",
            "4            Zuko        Milik          650000         NaN         Kecil\n",
            "5           dyrga      Kontrak          450000         NaN         Kecil\n"
          ]
        }
      ]
    },
    {
      "cell_type": "markdown",
      "source": [
        "##2. Binning Linspace"
      ],
      "metadata": {
        "id": "CqjgcmfImwJd"
      }
    },
    {
      "cell_type": "code",
      "source": [
        "bins = np.linspace(min(data['Gaji Orang Tua']),\n",
        "                   max(data['Gaji Orang Tua']), 3)\n",
        "kategori = ['Kecil', 'Besar']\n",
        "data['gaji_binned'] = pd.cut(data['Gaji Orang Tua'],\n",
        "                             bins=bins,\n",
        "                             labels=kategori,\n",
        "                             include_lowest=True)\n",
        "print(data)"
      ],
      "metadata": {
        "colab": {
          "base_uri": "https://localhost:8080/"
        },
        "id": "JrdXloD-kBOG",
        "outputId": "1db88126-84ca-461e-baf0-8e6478a1cf9d"
      },
      "execution_count": 13,
      "outputs": [
        {
          "output_type": "stream",
          "name": "stdout",
          "text": [
            "             Nama Status Rumah  Gaji Orang Tua  Keterangan gaji_binned_1  \\\n",
            "0      aldi taher      Kontrak         2100000         NaN         Besar   \n",
            "1          kekeyi        Milik         4000000         NaN         Besar   \n",
            "2   rangga sasana      Kontrak         1400000         NaN         Kecil   \n",
            "3  vicky prasetyo      Kontrak          700000         NaN         Kecil   \n",
            "4            Zuko        Milik          650000         NaN         Kecil   \n",
            "5           dyrga      Kontrak          450000         NaN         Kecil   \n",
            "\n",
            "  gaji_binned  \n",
            "0       Kecil  \n",
            "1       Besar  \n",
            "2       Kecil  \n",
            "3       Kecil  \n",
            "4       Kecil  \n",
            "5       Kecil  \n"
          ]
        }
      ]
    },
    {
      "cell_type": "markdown",
      "source": [
        "#3. Teknik Quantile"
      ],
      "metadata": {
        "id": "eDPl53Oxo6QP"
      }
    },
    {
      "cell_type": "code",
      "source": [
        "data['gaji_binned_3'] = pd.qcut(data['Gaji Orang Tua'],\n",
        "                               q=2,\n",
        "                               labels=kategori)\n",
        "print(data)"
      ],
      "metadata": {
        "colab": {
          "base_uri": "https://localhost:8080/"
        },
        "id": "D2dC2TLvnNfC",
        "outputId": "ab901d61-ff10-4080-b270-d0a29c4220a8"
      },
      "execution_count": 16,
      "outputs": [
        {
          "output_type": "stream",
          "name": "stdout",
          "text": [
            "             Nama Status Rumah  Gaji Orang Tua  Keterangan gaji_binned_1  \\\n",
            "0      aldi taher      Kontrak         2100000         NaN         Besar   \n",
            "1          kekeyi        Milik         4000000         NaN         Besar   \n",
            "2   rangga sasana      Kontrak         1400000         NaN         Kecil   \n",
            "3  vicky prasetyo      Kontrak          700000         NaN         Kecil   \n",
            "4            Zuko        Milik          650000         NaN         Kecil   \n",
            "5           dyrga      Kontrak          450000         NaN         Kecil   \n",
            "\n",
            "  gaji_binned gaji_binned_3  \n",
            "0       Kecil         Besar  \n",
            "1       Besar         Besar  \n",
            "2       Kecil         Besar  \n",
            "3       Kecil         Kecil  \n",
            "4       Kecil         Kecil  \n",
            "5       Kecil         Kecil  \n"
          ]
        }
      ]
    }
  ]
}